{
 "cells": [
  {
   "cell_type": "markdown",
   "id": "9a58b794-f0c2-4b12-8dfb-3989992cc6ed",
   "metadata": {},
   "source": [
    "# **Importación de las paqueterias**"
   ]
  },
  {
   "cell_type": "code",
   "execution_count": 1,
   "id": "a97228bc-cca7-4817-85be-59b14b361990",
   "metadata": {},
   "outputs": [],
   "source": [
    "import pandas as pd\n",
    "import numpy as np\n",
    "\n",
    "from Machine_Learning_Tools.Neural_Networks_Models import cross_val_metrics,multi_layer_perceptron,single_layer_perceptron\n",
    "from tensorflow.keras.losses import CategoricalCrossentropy\n",
    "from tensorflow.keras import activations\n",
    "from tensorflow.keras.optimizers import Adam,SGD\n",
    "from tensorflow.keras.metrics import CategoricalAccuracy\n",
    "from tensorflow.keras.callbacks import EarlyStopping\n",
    "from sklearn.tree import DecisionTreeClassifier\n",
    "from sklearn.preprocessing import OneHotEncoder,MinMaxScaler\n",
    "from sklearn.compose import ColumnTransformer\n",
    "from sklearn.feature_selection import SelectFromModel\n",
    "from sklearn.decomposition import PCA\n",
    "from Machine_Learning_Tools.plots import correlogram, pairplot\n",
    "import keras_tuner as kt\n",
    "import warnings\n",
    "warnings.filterwarnings(\"ignore\")\n",
    "\n",
    "import matplotlib.pyplot as plt\n",
    "import seaborn as sns\n",
    "sns.set_theme(context='notebook',style='whitegrid',palette='autumn',font_scale=1.5)\n",
    "%matplotlib inline"
   ]
  },
  {
   "cell_type": "markdown",
   "id": "c629ec46-cf46-476e-9486-9ecb62d40396",
   "metadata": {},
   "source": [
    "# **Carga y exploración de los datos**"
   ]
  },
  {
   "cell_type": "code",
   "execution_count": 2,
   "id": "19cf723a-19b7-476e-a9dd-e524f95811d8",
   "metadata": {},
   "outputs": [],
   "source": [
    "train = pd.read_csv('datasets/Mobile_Price/train.csv')\n",
    "\n",
    "test = pd.read_csv('datasets/Mobile_Price/test.csv')"
   ]
  },
  {
   "cell_type": "code",
   "execution_count": 3,
   "id": "be21bfb5-acf1-4d57-9c74-f7cc1ac5051f",
   "metadata": {},
   "outputs": [
    {
     "data": {
      "text/html": [
       "<div>\n",
       "<style scoped>\n",
       "    .dataframe tbody tr th:only-of-type {\n",
       "        vertical-align: middle;\n",
       "    }\n",
       "\n",
       "    .dataframe tbody tr th {\n",
       "        vertical-align: top;\n",
       "    }\n",
       "\n",
       "    .dataframe thead th {\n",
       "        text-align: right;\n",
       "    }\n",
       "</style>\n",
       "<table border=\"1\" class=\"dataframe\">\n",
       "  <thead>\n",
       "    <tr style=\"text-align: right;\">\n",
       "      <th></th>\n",
       "      <th>battery_power</th>\n",
       "      <th>blue</th>\n",
       "      <th>clock_speed</th>\n",
       "      <th>dual_sim</th>\n",
       "      <th>fc</th>\n",
       "      <th>four_g</th>\n",
       "      <th>int_memory</th>\n",
       "      <th>m_dep</th>\n",
       "      <th>mobile_wt</th>\n",
       "      <th>n_cores</th>\n",
       "      <th>...</th>\n",
       "      <th>px_height</th>\n",
       "      <th>px_width</th>\n",
       "      <th>ram</th>\n",
       "      <th>sc_h</th>\n",
       "      <th>sc_w</th>\n",
       "      <th>talk_time</th>\n",
       "      <th>three_g</th>\n",
       "      <th>touch_screen</th>\n",
       "      <th>wifi</th>\n",
       "      <th>price_range</th>\n",
       "    </tr>\n",
       "  </thead>\n",
       "  <tbody>\n",
       "    <tr>\n",
       "      <th>0</th>\n",
       "      <td>842</td>\n",
       "      <td>0</td>\n",
       "      <td>2.2</td>\n",
       "      <td>0</td>\n",
       "      <td>1</td>\n",
       "      <td>0</td>\n",
       "      <td>7</td>\n",
       "      <td>0.6</td>\n",
       "      <td>188</td>\n",
       "      <td>2</td>\n",
       "      <td>...</td>\n",
       "      <td>20</td>\n",
       "      <td>756</td>\n",
       "      <td>2549</td>\n",
       "      <td>9</td>\n",
       "      <td>7</td>\n",
       "      <td>19</td>\n",
       "      <td>0</td>\n",
       "      <td>0</td>\n",
       "      <td>1</td>\n",
       "      <td>1</td>\n",
       "    </tr>\n",
       "    <tr>\n",
       "      <th>1</th>\n",
       "      <td>1021</td>\n",
       "      <td>1</td>\n",
       "      <td>0.5</td>\n",
       "      <td>1</td>\n",
       "      <td>0</td>\n",
       "      <td>1</td>\n",
       "      <td>53</td>\n",
       "      <td>0.7</td>\n",
       "      <td>136</td>\n",
       "      <td>3</td>\n",
       "      <td>...</td>\n",
       "      <td>905</td>\n",
       "      <td>1988</td>\n",
       "      <td>2631</td>\n",
       "      <td>17</td>\n",
       "      <td>3</td>\n",
       "      <td>7</td>\n",
       "      <td>1</td>\n",
       "      <td>1</td>\n",
       "      <td>0</td>\n",
       "      <td>2</td>\n",
       "    </tr>\n",
       "    <tr>\n",
       "      <th>2</th>\n",
       "      <td>563</td>\n",
       "      <td>1</td>\n",
       "      <td>0.5</td>\n",
       "      <td>1</td>\n",
       "      <td>2</td>\n",
       "      <td>1</td>\n",
       "      <td>41</td>\n",
       "      <td>0.9</td>\n",
       "      <td>145</td>\n",
       "      <td>5</td>\n",
       "      <td>...</td>\n",
       "      <td>1263</td>\n",
       "      <td>1716</td>\n",
       "      <td>2603</td>\n",
       "      <td>11</td>\n",
       "      <td>2</td>\n",
       "      <td>9</td>\n",
       "      <td>1</td>\n",
       "      <td>1</td>\n",
       "      <td>0</td>\n",
       "      <td>2</td>\n",
       "    </tr>\n",
       "    <tr>\n",
       "      <th>3</th>\n",
       "      <td>615</td>\n",
       "      <td>1</td>\n",
       "      <td>2.5</td>\n",
       "      <td>0</td>\n",
       "      <td>0</td>\n",
       "      <td>0</td>\n",
       "      <td>10</td>\n",
       "      <td>0.8</td>\n",
       "      <td>131</td>\n",
       "      <td>6</td>\n",
       "      <td>...</td>\n",
       "      <td>1216</td>\n",
       "      <td>1786</td>\n",
       "      <td>2769</td>\n",
       "      <td>16</td>\n",
       "      <td>8</td>\n",
       "      <td>11</td>\n",
       "      <td>1</td>\n",
       "      <td>0</td>\n",
       "      <td>0</td>\n",
       "      <td>2</td>\n",
       "    </tr>\n",
       "    <tr>\n",
       "      <th>4</th>\n",
       "      <td>1821</td>\n",
       "      <td>1</td>\n",
       "      <td>1.2</td>\n",
       "      <td>0</td>\n",
       "      <td>13</td>\n",
       "      <td>1</td>\n",
       "      <td>44</td>\n",
       "      <td>0.6</td>\n",
       "      <td>141</td>\n",
       "      <td>2</td>\n",
       "      <td>...</td>\n",
       "      <td>1208</td>\n",
       "      <td>1212</td>\n",
       "      <td>1411</td>\n",
       "      <td>8</td>\n",
       "      <td>2</td>\n",
       "      <td>15</td>\n",
       "      <td>1</td>\n",
       "      <td>1</td>\n",
       "      <td>0</td>\n",
       "      <td>1</td>\n",
       "    </tr>\n",
       "  </tbody>\n",
       "</table>\n",
       "<p>5 rows × 21 columns</p>\n",
       "</div>"
      ],
      "text/plain": [
       "   battery_power  blue  clock_speed  dual_sim  fc  four_g  int_memory  m_dep  \\\n",
       "0            842     0          2.2         0   1       0           7    0.6   \n",
       "1           1021     1          0.5         1   0       1          53    0.7   \n",
       "2            563     1          0.5         1   2       1          41    0.9   \n",
       "3            615     1          2.5         0   0       0          10    0.8   \n",
       "4           1821     1          1.2         0  13       1          44    0.6   \n",
       "\n",
       "   mobile_wt  n_cores  ...  px_height  px_width   ram  sc_h  sc_w  talk_time  \\\n",
       "0        188        2  ...         20       756  2549     9     7         19   \n",
       "1        136        3  ...        905      1988  2631    17     3          7   \n",
       "2        145        5  ...       1263      1716  2603    11     2          9   \n",
       "3        131        6  ...       1216      1786  2769    16     8         11   \n",
       "4        141        2  ...       1208      1212  1411     8     2         15   \n",
       "\n",
       "   three_g  touch_screen  wifi  price_range  \n",
       "0        0             0     1            1  \n",
       "1        1             1     0            2  \n",
       "2        1             1     0            2  \n",
       "3        1             0     0            2  \n",
       "4        1             1     0            1  \n",
       "\n",
       "[5 rows x 21 columns]"
      ]
     },
     "execution_count": 3,
     "metadata": {},
     "output_type": "execute_result"
    }
   ],
   "source": [
    "train.head()"
   ]
  },
  {
   "cell_type": "code",
   "execution_count": 4,
   "id": "16684475-6c0d-442b-b842-c0970f4b0e09",
   "metadata": {},
   "outputs": [
    {
     "name": "stdout",
     "output_type": "stream",
     "text": [
      "<class 'pandas.core.frame.DataFrame'>\n",
      "RangeIndex: 2000 entries, 0 to 1999\n",
      "Data columns (total 21 columns):\n",
      " #   Column         Non-Null Count  Dtype  \n",
      "---  ------         --------------  -----  \n",
      " 0   battery_power  2000 non-null   int64  \n",
      " 1   blue           2000 non-null   int64  \n",
      " 2   clock_speed    2000 non-null   float64\n",
      " 3   dual_sim       2000 non-null   int64  \n",
      " 4   fc             2000 non-null   int64  \n",
      " 5   four_g         2000 non-null   int64  \n",
      " 6   int_memory     2000 non-null   int64  \n",
      " 7   m_dep          2000 non-null   float64\n",
      " 8   mobile_wt      2000 non-null   int64  \n",
      " 9   n_cores        2000 non-null   int64  \n",
      " 10  pc             2000 non-null   int64  \n",
      " 11  px_height      2000 non-null   int64  \n",
      " 12  px_width       2000 non-null   int64  \n",
      " 13  ram            2000 non-null   int64  \n",
      " 14  sc_h           2000 non-null   int64  \n",
      " 15  sc_w           2000 non-null   int64  \n",
      " 16  talk_time      2000 non-null   int64  \n",
      " 17  three_g        2000 non-null   int64  \n",
      " 18  touch_screen   2000 non-null   int64  \n",
      " 19  wifi           2000 non-null   int64  \n",
      " 20  price_range    2000 non-null   int64  \n",
      "dtypes: float64(2), int64(19)\n",
      "memory usage: 328.2 KB\n"
     ]
    }
   ],
   "source": [
    "train.info()"
   ]
  },
  {
   "cell_type": "code",
   "execution_count": 5,
   "id": "f4682944-86f1-4032-85d6-199aef4da78e",
   "metadata": {},
   "outputs": [
    {
     "data": {
      "image/png": "[encoded data removed]",
      "text/plain": [
       "<Figure size 1800x1000 with 2 Axes>"
      ]
     },
     "metadata": {},
     "output_type": "display_data"
    }
   ],
   "source": [
    "cols = list(train.columns)\n",
    "correlogram(train, col = cols,figsize=(18,10))"
   ]
  },
  {
   "cell_type": "markdown",
   "id": "73bf6eb9-7bd1-4f4d-b30b-f3a747377409",
   "metadata": {},
   "source": [
    "# **Preprocesamiento de los datos**"
   ]
  },
  {
   "cell_type": "markdown",
   "id": "1683b3ef-9fdc-4940-99c6-ad3f56a09bae",
   "metadata": {},
   "source": [
    "## Definición de las variables explicativas y de la variable respuesta, además de los conjuntos de entrenamiento y prueba "
   ]
  },
  {
   "cell_type": "code",
   "execution_count": 6,
   "id": "1052b57c-6001-451b-ba43-6825b74bf048",
   "metadata": {},
   "outputs": [],
   "source": [
    "features = cols[:-1]\n",
    "target = [cols[-1]]\n",
    "\n",
    "train_size = round(0.8*train.shape[0])\n",
    "\n",
    "train = train.sample(n=train.shape[0],random_state=100)\n",
    "\n",
    "X_train = train[features].iloc[:train_size,:]\n",
    "\n",
    "y_train = train[target].iloc[:train_size]\n",
    "\n",
    "X_val = train[features].iloc[train_size:,:]\n",
    "\n",
    "y_val = train[target].iloc[train_size:]\n"
   ]
  },
  {
   "cell_type": "markdown",
   "id": "f2a4f353-d03a-40c3-b9df-350f8720c611",
   "metadata": {},
   "source": [
    "## Escalamiento de las variables explicativas"
   ]
  },
  {
   "cell_type": "code",
   "execution_count": 7,
   "id": "f2a3e07d-352b-44fc-abe0-628a2d82ee94",
   "metadata": {},
   "outputs": [],
   "source": [
    "features_scaler = MinMaxScaler()\n",
    "features_scaler.fit(X_train)\n",
    "\n",
    "X_train_scaled = features_scaler.transform(X_train)\n",
    "X_val_scaled = features_scaler.transform(X_val)\n",
    "\n",
    "y_train_ohe = pd.get_dummies(y_train,dtype=float,columns=target).values\n",
    "y_val_ohe = pd.get_dummies(y_val,dtype=float,columns=target).values"
   ]
  },
  {
   "cell_type": "markdown",
   "id": "a4e55043-12f5-455b-b8ec-e5d8429bc76c",
   "metadata": {},
   "source": [
    "## Selector de variables "
   ]
  },
  {
   "cell_type": "code",
   "execution_count": 8,
   "id": "1fe8360d-887b-401f-97d7-9bd1e38d87a5",
   "metadata": {},
   "outputs": [],
   "source": [
    "tree_model = DecisionTreeClassifier()\n",
    "threshold = 0.1\n",
    "feature_selector = SelectFromModel(estimator=tree_model,threshold=threshold)\n",
    "feature_selector.fit(X_train_scaled,y_train_ohe)\n",
    "\n",
    "X_train_fs = feature_selector.transform(X_train_scaled)\n",
    "X_val_fs = feature_selector.transform(X_val_scaled)"
   ]
  },
  {
   "cell_type": "markdown",
   "id": "4a038d8b-607b-4b0d-93ac-98d4f80b9fc3",
   "metadata": {},
   "source": [
    "# **Entenamiento de los modelos de redes neuronales**"
   ]
  },
  {
   "cell_type": "markdown",
   "id": "4a881d3c-55ad-418f-82c3-76608b4ec039",
   "metadata": {},
   "source": [
    "## Creación del modelo de perceptron multicapa"
   ]
  },
  {
   "cell_type": "code",
   "execution_count": 9,
   "id": "3da89897-db2e-4d22-860a-31947f2b9947",
   "metadata": {},
   "outputs": [],
   "source": [
    "def nn_classifier(lr=0.05,opt='sgd',nn=10,n_hl=2,act='relu',dropout_rate=0.2):\n",
    "    \n",
    "    n_outputs = y_train_ohe.shape[1]\n",
    "    input_shape = (X_train_fs.shape[1],)\n",
    "    \n",
    "    if opt == 'sgd':\n",
    "        opt = SGD(learning_rate=lr)\n",
    "        \n",
    "    elif opt == 'adam':\n",
    "        opt = Adam(learning_rate=lr)\n",
    "        \n",
    "    met = [CategoricalAccuracy()]\n",
    "    loss = CategoricalCrossentropy()\n",
    "    out_act = 'softmax'\n",
    "    model = multi_layer_perceptron(input_shape,n_outputs,nn,n_hl,act,out_act,opt,loss,met,dropout=True,dropout_rate=dropout_rate)\n",
    "    \n",
    "    return model"
   ]
  },
  {
   "cell_type": "markdown",
   "id": "b8f6494c-33fe-4cc0-8f1a-0a66571a8391",
   "metadata": {},
   "source": [
    "## Hyperparameter Tuning"
   ]
  },
  {
   "cell_type": "code",
   "execution_count": 10,
   "id": "6154545f-4ee4-497a-ae4d-14b96720fe26",
   "metadata": {
    "tags": []
   },
   "outputs": [],
   "source": [
    "class hyper_model(kt.HyperModel):\n",
    "    \n",
    "    def build(self, hp):\n",
    "        \n",
    "        lr_space = hp.Float('learning_rate',1e-4,0.9999,sampling='log')\n",
    "        opt_space = hp.Choice('optimizer',['adam','sgd'])\n",
    "        nn_space = hp.Int('number_neurons',1,100,sampling='log')\n",
    "        hl_space = hp.Int('number_hidden_layers',1,10,sampling='log')\n",
    "        act_space = hp.Choice('activation',['relu','sigmoid','tanh','elu'])\n",
    "        dr_space = hp.Float('dropout_rate',1e-4,0.4)\n",
    "        \n",
    "        model = nn_classifier(lr_space,opt_space,nn_space,hl_space,act_space,dr_space)\n",
    "        \n",
    "        return model"
   ]
  },
  {
   "cell_type": "code",
   "execution_count": 11,
   "id": "ae68ee58-2225-43f0-bcdc-6c858fd2303a",
   "metadata": {},
   "outputs": [],
   "source": [
    "hp = kt.HyperParameters()\n",
    "mlp_hyper_model = hyper_model()"
   ]
  },
  {
   "cell_type": "code",
   "execution_count": 12,
   "id": "45de7c66-37a1-40bf-b43b-5af1e59e1112",
   "metadata": {},
   "outputs": [],
   "source": [
    "random_search = kt.RandomSearch(hypermodel=mlp_hyper_model,\n",
    "                               objective='val_categorical_accuracy',\n",
    "                               max_trials=100,\n",
    "                               seed=145,\n",
    "                                directory='hyperparameter_results/',\n",
    "                                project_name='Mobile_Price',\n",
    "                                overwrite=True)"
   ]
  },
  {
   "cell_type": "code",
   "execution_count": 13,
   "id": "28a52ffb-df82-4843-9ca1-ce965df1a7a9",
   "metadata": {},
   "outputs": [],
   "source": [
    "Epochs = 50\n",
    "Batch_size = 40\n",
    "Callbacks = [EarlyStopping(min_delta=1e-4,patience=3)]"
   ]
  },
  {
   "cell_type": "code",
   "execution_count": 14,
   "id": "54e16473-962d-4629-bd3d-af5df1e791bb",
   "metadata": {},
   "outputs": [
    {
     "name": "stdout",
     "output_type": "stream",
     "text": [
      "Trial 100 Complete [00h 00m 11s]\n",
      "val_categorical_accuracy: 0.699999988079071\n",
      "\n",
      "Best val_categorical_accuracy So Far: 0.824999988079071\n",
      "Total elapsed time: 00h 10m 02s\n",
      "INFO:tensorflow:Oracle triggered exit\n"
     ]
    }
   ],
   "source": [
    "random_search.search(X_train_fs,y_train_ohe,\n",
    "                     validation_data=(X_val_fs,y_val_ohe),\n",
    "                     epochs=Epochs,\n",
    "                    batch_size=Batch_size,\n",
    "                    callbacks=Callbacks)"
   ]
  },
  {
   "cell_type": "code",
   "execution_count": 15,
   "id": "bb7ee762-5c06-4bca-ae54-7cb3db5562d0",
   "metadata": {},
   "outputs": [],
   "source": [
    "best_models = random_search.get_best_models(3)"
   ]
  },
  {
   "cell_type": "code",
   "execution_count": 16,
   "id": "e80bc12d-0134-44ca-8aa6-4d5b6932ab89",
   "metadata": {},
   "outputs": [],
   "source": [
    "best_model = best_models[0]"
   ]
  },
  {
   "cell_type": "code",
   "execution_count": 17,
   "id": "8e84b049-4d94-4f26-ba72-0cdeb604701e",
   "metadata": {},
   "outputs": [],
   "source": [
    "best_hp = random_search.get_best_hyperparameters(4)"
   ]
  },
  {
   "cell_type": "code",
   "execution_count": 18,
   "id": "8b151aca-7bf5-4aff-9093-1aeed969eeab",
   "metadata": {},
   "outputs": [
    {
     "data": {
      "text/plain": [
       "{'learning_rate': 0.005465732584818121,\n",
       " 'optimizer': 'adam',\n",
       " 'number_neurons': 10,\n",
       " 'number_hidden_layers': 2,\n",
       " 'activation': 'relu',\n",
       " 'dropout_rate': 0.1539433625201195}"
      ]
     },
     "execution_count": 18,
     "metadata": {},
     "output_type": "execute_result"
    }
   ],
   "source": [
    "best_hp[0].values"
   ]
  },
  {
   "cell_type": "code",
   "execution_count": 19,
   "id": "e5805b60-50af-48cc-9e3a-580288a493d3",
   "metadata": {},
   "outputs": [
    {
     "data": {
      "text/plain": [
       "{'learning_rate': 0.002130071812977478,\n",
       " 'optimizer': 'adam',\n",
       " 'number_neurons': 25,\n",
       " 'number_hidden_layers': 3,\n",
       " 'activation': 'elu',\n",
       " 'dropout_rate': 0.3678553578787937}"
      ]
     },
     "execution_count": 19,
     "metadata": {},
     "output_type": "execute_result"
    }
   ],
   "source": [
    "best_hp[1].values"
   ]
  },
  {
   "cell_type": "code",
   "execution_count": 20,
   "id": "45dea956-3b9e-4b07-b086-18b5351b12e0",
   "metadata": {},
   "outputs": [
    {
     "data": {
      "text/plain": [
       "{'learning_rate': 0.45641572634872374,\n",
       " 'optimizer': 'sgd',\n",
       " 'number_neurons': 7,\n",
       " 'number_hidden_layers': 3,\n",
       " 'activation': 'elu',\n",
       " 'dropout_rate': 0.15524139295044498}"
      ]
     },
     "execution_count": 20,
     "metadata": {},
     "output_type": "execute_result"
    }
   ],
   "source": [
    "best_hp[3].values"
   ]
  },
  {
   "cell_type": "code",
   "execution_count": 21,
   "id": "96ae9c74-805e-47db-bc8d-1ca1adab1cb8",
   "metadata": {},
   "outputs": [],
   "source": [
    "best_model.save('models/mobile_prices_best_model.h5')"
   ]
  },
  {
   "cell_type": "code",
   "execution_count": 22,
   "id": "23026f9d-d3b9-452f-9c8a-6ce8178df060",
   "metadata": {},
   "outputs": [
    {
     "name": "stdout",
     "output_type": "stream",
     "text": [
      "32/32 [==============================] - 0s 1ms/step\n"
     ]
    }
   ],
   "source": [
    "X_test = features_scaler.transform(test.drop('id',axis=1))\n",
    "X_test = feature_selector.transform(X_test)\n",
    "\n",
    "price_prediction = best_model.predict(X_test).argmax(axis=1)"
   ]
  },
  {
   "cell_type": "code",
   "execution_count": 23,
   "id": "00cd565f-82d9-45c6-af85-75bed100a498",
   "metadata": {},
   "outputs": [
    {
     "data": {
      "text/html": [
       "<div>\n",
       "<style scoped>\n",
       "    .dataframe tbody tr th:only-of-type {\n",
       "        vertical-align: middle;\n",
       "    }\n",
       "\n",
       "    .dataframe tbody tr th {\n",
       "        vertical-align: top;\n",
       "    }\n",
       "\n",
       "    .dataframe thead th {\n",
       "        text-align: right;\n",
       "    }\n",
       "</style>\n",
       "<table border=\"1\" class=\"dataframe\">\n",
       "  <thead>\n",
       "    <tr style=\"text-align: right;\">\n",
       "      <th></th>\n",
       "      <th>id</th>\n",
       "      <th>battery_power</th>\n",
       "      <th>blue</th>\n",
       "      <th>clock_speed</th>\n",
       "      <th>dual_sim</th>\n",
       "      <th>fc</th>\n",
       "      <th>four_g</th>\n",
       "      <th>int_memory</th>\n",
       "      <th>m_dep</th>\n",
       "      <th>mobile_wt</th>\n",
       "      <th>...</th>\n",
       "      <th>px_height</th>\n",
       "      <th>px_width</th>\n",
       "      <th>ram</th>\n",
       "      <th>sc_h</th>\n",
       "      <th>sc_w</th>\n",
       "      <th>talk_time</th>\n",
       "      <th>three_g</th>\n",
       "      <th>touch_screen</th>\n",
       "      <th>wifi</th>\n",
       "      <th>Price_Prediction</th>\n",
       "    </tr>\n",
       "  </thead>\n",
       "  <tbody>\n",
       "    <tr>\n",
       "      <th>0</th>\n",
       "      <td>1</td>\n",
       "      <td>1043</td>\n",
       "      <td>1</td>\n",
       "      <td>1.8</td>\n",
       "      <td>1</td>\n",
       "      <td>14</td>\n",
       "      <td>0</td>\n",
       "      <td>5</td>\n",
       "      <td>0.1</td>\n",
       "      <td>193</td>\n",
       "      <td>...</td>\n",
       "      <td>226</td>\n",
       "      <td>1412</td>\n",
       "      <td>3476</td>\n",
       "      <td>12</td>\n",
       "      <td>7</td>\n",
       "      <td>2</td>\n",
       "      <td>0</td>\n",
       "      <td>1</td>\n",
       "      <td>0</td>\n",
       "      <td>3</td>\n",
       "    </tr>\n",
       "    <tr>\n",
       "      <th>1</th>\n",
       "      <td>2</td>\n",
       "      <td>841</td>\n",
       "      <td>1</td>\n",
       "      <td>0.5</td>\n",
       "      <td>1</td>\n",
       "      <td>4</td>\n",
       "      <td>1</td>\n",
       "      <td>61</td>\n",
       "      <td>0.8</td>\n",
       "      <td>191</td>\n",
       "      <td>...</td>\n",
       "      <td>746</td>\n",
       "      <td>857</td>\n",
       "      <td>3895</td>\n",
       "      <td>6</td>\n",
       "      <td>0</td>\n",
       "      <td>7</td>\n",
       "      <td>1</td>\n",
       "      <td>0</td>\n",
       "      <td>0</td>\n",
       "      <td>3</td>\n",
       "    </tr>\n",
       "    <tr>\n",
       "      <th>2</th>\n",
       "      <td>3</td>\n",
       "      <td>1807</td>\n",
       "      <td>1</td>\n",
       "      <td>2.8</td>\n",
       "      <td>0</td>\n",
       "      <td>1</td>\n",
       "      <td>0</td>\n",
       "      <td>27</td>\n",
       "      <td>0.9</td>\n",
       "      <td>186</td>\n",
       "      <td>...</td>\n",
       "      <td>1270</td>\n",
       "      <td>1366</td>\n",
       "      <td>2396</td>\n",
       "      <td>17</td>\n",
       "      <td>10</td>\n",
       "      <td>10</td>\n",
       "      <td>0</td>\n",
       "      <td>1</td>\n",
       "      <td>1</td>\n",
       "      <td>2</td>\n",
       "    </tr>\n",
       "    <tr>\n",
       "      <th>3</th>\n",
       "      <td>4</td>\n",
       "      <td>1546</td>\n",
       "      <td>0</td>\n",
       "      <td>0.5</td>\n",
       "      <td>1</td>\n",
       "      <td>18</td>\n",
       "      <td>1</td>\n",
       "      <td>25</td>\n",
       "      <td>0.5</td>\n",
       "      <td>96</td>\n",
       "      <td>...</td>\n",
       "      <td>295</td>\n",
       "      <td>1752</td>\n",
       "      <td>3893</td>\n",
       "      <td>10</td>\n",
       "      <td>0</td>\n",
       "      <td>7</td>\n",
       "      <td>1</td>\n",
       "      <td>1</td>\n",
       "      <td>0</td>\n",
       "      <td>3</td>\n",
       "    </tr>\n",
       "    <tr>\n",
       "      <th>4</th>\n",
       "      <td>5</td>\n",
       "      <td>1434</td>\n",
       "      <td>0</td>\n",
       "      <td>1.4</td>\n",
       "      <td>0</td>\n",
       "      <td>11</td>\n",
       "      <td>1</td>\n",
       "      <td>49</td>\n",
       "      <td>0.5</td>\n",
       "      <td>108</td>\n",
       "      <td>...</td>\n",
       "      <td>749</td>\n",
       "      <td>810</td>\n",
       "      <td>1773</td>\n",
       "      <td>15</td>\n",
       "      <td>8</td>\n",
       "      <td>7</td>\n",
       "      <td>1</td>\n",
       "      <td>0</td>\n",
       "      <td>1</td>\n",
       "      <td>1</td>\n",
       "    </tr>\n",
       "  </tbody>\n",
       "</table>\n",
       "<p>5 rows × 22 columns</p>\n",
       "</div>"
      ],
      "text/plain": [
       "   id  battery_power  blue  clock_speed  dual_sim  fc  four_g  int_memory  \\\n",
       "0   1           1043     1          1.8         1  14       0           5   \n",
       "1   2            841     1          0.5         1   4       1          61   \n",
       "2   3           1807     1          2.8         0   1       0          27   \n",
       "3   4           1546     0          0.5         1  18       1          25   \n",
       "4   5           1434     0          1.4         0  11       1          49   \n",
       "\n",
       "   m_dep  mobile_wt  ...  px_height  px_width   ram  sc_h  sc_w  talk_time  \\\n",
       "0    0.1        193  ...        226      1412  3476    12     7          2   \n",
       "1    0.8        191  ...        746       857  3895     6     0          7   \n",
       "2    0.9        186  ...       1270      1366  2396    17    10         10   \n",
       "3    0.5         96  ...        295      1752  3893    10     0          7   \n",
       "4    0.5        108  ...        749       810  1773    15     8          7   \n",
       "\n",
       "   three_g  touch_screen  wifi  Price_Prediction  \n",
       "0        0             1     0                 3  \n",
       "1        1             0     0                 3  \n",
       "2        0             1     1                 2  \n",
       "3        1             1     0                 3  \n",
       "4        1             0     1                 1  \n",
       "\n",
       "[5 rows x 22 columns]"
      ]
     },
     "execution_count": 23,
     "metadata": {},
     "output_type": "execute_result"
    }
   ],
   "source": [
    "test['Price_Prediction'] = price_prediction\n",
    "\n",
    "test.head(5)"
   ]
  },
  {
   "cell_type": "code",
   "execution_count": null,
   "id": "982d2870-a63f-438a-9dff-e040dd59e611",
   "metadata": {},
   "outputs": [],
   "source": []
  }
 ],
 "metadata": {
  "kernelspec": {
   "display_name": "Python 3 (ipykernel)",
   "language": "python",
   "name": "python3"
  },
  "language_info": {
   "codemirror_mode": {
    "name": "ipython",
    "version": 3
   },
   "file_extension": ".py",
   "mimetype": "text/x-python",
   "name": "python",
   "nbconvert_exporter": "python",
   "pygments_lexer": "ipython3",
   "version": "3.9.13"
  }
 },
 "nbformat": 4,
 "nbformat_minor": 5
}
