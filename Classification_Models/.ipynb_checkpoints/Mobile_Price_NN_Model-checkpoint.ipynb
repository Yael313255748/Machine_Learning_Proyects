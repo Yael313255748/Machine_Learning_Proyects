{
 "cells": [
  {
   "cell_type": "code",
   "execution_count": 109,
   "id": "f8fcecee-2648-46e6-8a83-b2ff4a94db94",
   "metadata": {},
   "outputs": [],
   "source": [
    "import pandas as pd\n",
    "import numpy as np\n",
    "from Machine_Learning_Tools.Neural_Networks_Models import cross_val_metrics,multi_layer_perceptron,single_layer_perceptron\n",
    "from tensorflow.keras.losses import CategoricalCrossentropy\n",
    "from tensorflow.keras import activations\n",
    "from tensorflow.keras.optimizers import Adam,SGD\n",
    "from tensorflow.keras.metrics import CategoricalAccuracy\n",
    "from tensorflow.keras.callbacks import EarlyStopping\n",
    "from sklearn.tree import DecisionTreeClassifier\n",
    "from sklearn.preprocessing import OneHotEncoder,MinMaxScaler\n",
    "from sklearn.compose import ColumnTransformer\n",
    "from sklearn.feature_selection import SelectFromModel\n",
    "from sklearn.decomposition import PCA\n",
    "from Machine_Learning_Tools.plots import correlogram, pairplot\n",
    "import keras_tuner as kt\n",
    "import warnings\n",
    "warnings.filterwarnings(\"ignore\")\n",
    "\n",
    "import matplotlib.pyplot as plt\n",
    "import seaborn as sns\n",
    "sns.set_theme(context='notebook',style='whitegrid',palette='autumn',font_scale=1.5)\n",
    "%matplotlib inline"
   ]
  },
  {
   "cell_type": "code",
   "execution_count": 76,
   "id": "19cf723a-19b7-476e-a9dd-e524f95811d8",
   "metadata": {},
   "outputs": [],
   "source": [
    "train = pd.read_csv('datasets/Mobile_Price/train.csv')\n",
    "\n",
    "test = pd.read_csv('datasets/Mobile_Price/test.csv')"
   ]
  },
  {
   "cell_type": "code",
   "execution_count": 3,
   "id": "be21bfb5-acf1-4d57-9c74-f7cc1ac5051f",
   "metadata": {},
   "outputs": [
    {
     "data": {
      "text/html": [
       "<div>\n",
       "<style scoped>\n",
       "    .dataframe tbody tr th:only-of-type {\n",
       "        vertical-align: middle;\n",
       "    }\n",
       "\n",
       "    .dataframe tbody tr th {\n",
       "        vertical-align: top;\n",
       "    }\n",
       "\n",
       "    .dataframe thead th {\n",
       "        text-align: right;\n",
       "    }\n",
       "</style>\n",
       "<table border=\"1\" class=\"dataframe\">\n",
       "  <thead>\n",
       "    <tr style=\"text-align: right;\">\n",
       "      <th></th>\n",
       "      <th>battery_power</th>\n",
       "      <th>blue</th>\n",
       "      <th>clock_speed</th>\n",
       "      <th>dual_sim</th>\n",
       "      <th>fc</th>\n",
       "      <th>four_g</th>\n",
       "      <th>int_memory</th>\n",
       "      <th>m_dep</th>\n",
       "      <th>mobile_wt</th>\n",
       "      <th>n_cores</th>\n",
       "      <th>...</th>\n",
       "      <th>px_height</th>\n",
       "      <th>px_width</th>\n",
       "      <th>ram</th>\n",
       "      <th>sc_h</th>\n",
       "      <th>sc_w</th>\n",
       "      <th>talk_time</th>\n",
       "      <th>three_g</th>\n",
       "      <th>touch_screen</th>\n",
       "      <th>wifi</th>\n",
       "      <th>price_range</th>\n",
       "    </tr>\n",
       "  </thead>\n",
       "  <tbody>\n",
       "    <tr>\n",
       "      <th>0</th>\n",
       "      <td>842</td>\n",
       "      <td>0</td>\n",
       "      <td>2.2</td>\n",
       "      <td>0</td>\n",
       "      <td>1</td>\n",
       "      <td>0</td>\n",
       "      <td>7</td>\n",
       "      <td>0.6</td>\n",
       "      <td>188</td>\n",
       "      <td>2</td>\n",
       "      <td>...</td>\n",
       "      <td>20</td>\n",
       "      <td>756</td>\n",
       "      <td>2549</td>\n",
       "      <td>9</td>\n",
       "      <td>7</td>\n",
       "      <td>19</td>\n",
       "      <td>0</td>\n",
       "      <td>0</td>\n",
       "      <td>1</td>\n",
       "      <td>1</td>\n",
       "    </tr>\n",
       "    <tr>\n",
       "      <th>1</th>\n",
       "      <td>1021</td>\n",
       "      <td>1</td>\n",
       "      <td>0.5</td>\n",
       "      <td>1</td>\n",
       "      <td>0</td>\n",
       "      <td>1</td>\n",
       "      <td>53</td>\n",
       "      <td>0.7</td>\n",
       "      <td>136</td>\n",
       "      <td>3</td>\n",
       "      <td>...</td>\n",
       "      <td>905</td>\n",
       "      <td>1988</td>\n",
       "      <td>2631</td>\n",
       "      <td>17</td>\n",
       "      <td>3</td>\n",
       "      <td>7</td>\n",
       "      <td>1</td>\n",
       "      <td>1</td>\n",
       "      <td>0</td>\n",
       "      <td>2</td>\n",
       "    </tr>\n",
       "    <tr>\n",
       "      <th>2</th>\n",
       "      <td>563</td>\n",
       "      <td>1</td>\n",
       "      <td>0.5</td>\n",
       "      <td>1</td>\n",
       "      <td>2</td>\n",
       "      <td>1</td>\n",
       "      <td>41</td>\n",
       "      <td>0.9</td>\n",
       "      <td>145</td>\n",
       "      <td>5</td>\n",
       "      <td>...</td>\n",
       "      <td>1263</td>\n",
       "      <td>1716</td>\n",
       "      <td>2603</td>\n",
       "      <td>11</td>\n",
       "      <td>2</td>\n",
       "      <td>9</td>\n",
       "      <td>1</td>\n",
       "      <td>1</td>\n",
       "      <td>0</td>\n",
       "      <td>2</td>\n",
       "    </tr>\n",
       "    <tr>\n",
       "      <th>3</th>\n",
       "      <td>615</td>\n",
       "      <td>1</td>\n",
       "      <td>2.5</td>\n",
       "      <td>0</td>\n",
       "      <td>0</td>\n",
       "      <td>0</td>\n",
       "      <td>10</td>\n",
       "      <td>0.8</td>\n",
       "      <td>131</td>\n",
       "      <td>6</td>\n",
       "      <td>...</td>\n",
       "      <td>1216</td>\n",
       "      <td>1786</td>\n",
       "      <td>2769</td>\n",
       "      <td>16</td>\n",
       "      <td>8</td>\n",
       "      <td>11</td>\n",
       "      <td>1</td>\n",
       "      <td>0</td>\n",
       "      <td>0</td>\n",
       "      <td>2</td>\n",
       "    </tr>\n",
       "    <tr>\n",
       "      <th>4</th>\n",
       "      <td>1821</td>\n",
       "      <td>1</td>\n",
       "      <td>1.2</td>\n",
       "      <td>0</td>\n",
       "      <td>13</td>\n",
       "      <td>1</td>\n",
       "      <td>44</td>\n",
       "      <td>0.6</td>\n",
       "      <td>141</td>\n",
       "      <td>2</td>\n",
       "      <td>...</td>\n",
       "      <td>1208</td>\n",
       "      <td>1212</td>\n",
       "      <td>1411</td>\n",
       "      <td>8</td>\n",
       "      <td>2</td>\n",
       "      <td>15</td>\n",
       "      <td>1</td>\n",
       "      <td>1</td>\n",
       "      <td>0</td>\n",
       "      <td>1</td>\n",
       "    </tr>\n",
       "  </tbody>\n",
       "</table>\n",
       "<p>5 rows × 21 columns</p>\n",
       "</div>"
      ],
      "text/plain": [
       "   battery_power  blue  clock_speed  dual_sim  fc  four_g  int_memory  m_dep  \\\n",
       "0            842     0          2.2         0   1       0           7    0.6   \n",
       "1           1021     1          0.5         1   0       1          53    0.7   \n",
       "2            563     1          0.5         1   2       1          41    0.9   \n",
       "3            615     1          2.5         0   0       0          10    0.8   \n",
       "4           1821     1          1.2         0  13       1          44    0.6   \n",
       "\n",
       "   mobile_wt  n_cores  ...  px_height  px_width   ram  sc_h  sc_w  talk_time  \\\n",
       "0        188        2  ...         20       756  2549     9     7         19   \n",
       "1        136        3  ...        905      1988  2631    17     3          7   \n",
       "2        145        5  ...       1263      1716  2603    11     2          9   \n",
       "3        131        6  ...       1216      1786  2769    16     8         11   \n",
       "4        141        2  ...       1208      1212  1411     8     2         15   \n",
       "\n",
       "   three_g  touch_screen  wifi  price_range  \n",
       "0        0             0     1            1  \n",
       "1        1             1     0            2  \n",
       "2        1             1     0            2  \n",
       "3        1             0     0            2  \n",
       "4        1             1     0            1  \n",
       "\n",
       "[5 rows x 21 columns]"
      ]
     },
     "execution_count": 3,
     "metadata": {},
     "output_type": "execute_result"
    }
   ],
   "source": [
    "train.head()"
   ]
  },
  {
   "cell_type": "code",
   "execution_count": 4,
   "id": "16684475-6c0d-442b-b842-c0970f4b0e09",
   "metadata": {},
   "outputs": [
    {
     "name": "stdout",
     "output_type": "stream",
     "text": [
      "<class 'pandas.core.frame.DataFrame'>\n",
      "RangeIndex: 2000 entries, 0 to 1999\n",
      "Data columns (total 21 columns):\n",
      " #   Column         Non-Null Count  Dtype  \n",
      "---  ------         --------------  -----  \n",
      " 0   battery_power  2000 non-null   int64  \n",
      " 1   blue           2000 non-null   int64  \n",
      " 2   clock_speed    2000 non-null   float64\n",
      " 3   dual_sim       2000 non-null   int64  \n",
      " 4   fc             2000 non-null   int64  \n",
      " 5   four_g         2000 non-null   int64  \n",
      " 6   int_memory     2000 non-null   int64  \n",
      " 7   m_dep          2000 non-null   float64\n",
      " 8   mobile_wt      2000 non-null   int64  \n",
      " 9   n_cores        2000 non-null   int64  \n",
      " 10  pc             2000 non-null   int64  \n",
      " 11  px_height      2000 non-null   int64  \n",
      " 12  px_width       2000 non-null   int64  \n",
      " 13  ram            2000 non-null   int64  \n",
      " 14  sc_h           2000 non-null   int64  \n",
      " 15  sc_w           2000 non-null   int64  \n",
      " 16  talk_time      2000 non-null   int64  \n",
      " 17  three_g        2000 non-null   int64  \n",
      " 18  touch_screen   2000 non-null   int64  \n",
      " 19  wifi           2000 non-null   int64  \n",
      " 20  price_range    2000 non-null   int64  \n",
      "dtypes: float64(2), int64(19)\n",
      "memory usage: 328.2 KB\n"
     ]
    }
   ],
   "source": [
    "train.info()"
   ]
  },
  {
   "cell_type": "code",
   "execution_count": 5,
   "id": "f4682944-86f1-4032-85d6-199aef4da78e",
   "metadata": {},
   "outputs": [
    {
     "data": {
      "image/png": "[encoded data removed]",
      "text/plain": [
       "<Figure size 1296x720 with 2 Axes>"
      ]
     },
     "metadata": {
      "needs_background": "light"
     },
     "output_type": "display_data"
    }
   ],
   "source": [
    "cols = list(train.columns)\n",
    "correlogram(train, col = cols,figsize=(18,10))"
   ]
  },
  {
   "cell_type": "code",
   "execution_count": null,
   "id": "24800846-d721-488c-8c98-42d52f6a08e7",
   "metadata": {},
   "outputs": [
    {
     "name": "stderr",
     "output_type": "stream",
     "text": [
      "\n",
      "KeyboardInterrupt\n",
      "\n"
     ]
    }
   ],
   "source": [
    "pairplot(train,cols,aspect= 2,height= 8)"
   ]
  },
  {
   "cell_type": "code",
   "execution_count": 77,
   "id": "f24b5f5f-bf4f-4db2-ad1c-47e10ce99a49",
   "metadata": {},
   "outputs": [
    {
     "data": {
      "text/plain": [
       "2000"
      ]
     },
     "execution_count": 77,
     "metadata": {},
     "output_type": "execute_result"
    }
   ],
   "source": [
    "features = cols[:-1]\n",
    "target = [cols[-1]]\n",
    "\n",
    "train_size = round(0.8*train.shape[0])\n",
    "\n",
    "train = train.sample(n=train.shape[0],random_state=100)\n",
    "\n",
    "X_train = train[features].iloc[:train_size,:]\n",
    "\n",
    "y_train = train[target].iloc[:train_size]\n",
    "\n",
    "X_val = train[features].iloc[train_size:,:]\n",
    "\n",
    "y_val = train[target].iloc[train_size:]\n"
   ]
  },
  {
   "cell_type": "code",
   "execution_count": 78,
   "id": "f2a3e07d-352b-44fc-abe0-628a2d82ee94",
   "metadata": {},
   "outputs": [],
   "source": [
    "features_scaler = MinMaxScaler()\n",
    "features_scaler.fit(X_train)\n",
    "\n",
    "X_train_scaled = features_scaler.transform(X_train)\n",
    "X_val_scaled = features_scaler.transform(X_val)\n",
    "\n",
    "y_train_ohe = pd.get_dummies(y_train,dtype=float,columns=target).values\n",
    "y_val_ohe = pd.get_dummies(y_val,dtype=float,columns=target).values"
   ]
  },
  {
   "cell_type": "code",
   "execution_count": 79,
   "id": "1fe8360d-887b-401f-97d7-9bd1e38d87a5",
   "metadata": {},
   "outputs": [],
   "source": [
    "tree_model = DecisionTreeClassifier()\n",
    "threshold = 0.1\n",
    "feature_selector = SelectFromModel(estimator=tree_model,threshold=threshold)\n",
    "feature_selector.fit(X_train_scaled,y_train_ohe)\n",
    "\n",
    "X_train_fs = feature_selector.transform(X_train_scaled)\n",
    "X_val_fs = feature_selector.transform(X_val_scaled)"
   ]
  },
  {
   "cell_type": "code",
   "execution_count": 100,
   "id": "3da89897-db2e-4d22-860a-31947f2b9947",
   "metadata": {},
   "outputs": [],
   "source": [
    "def logistic_regression(lr=0.05,mom=0.99,beta_1=0.9,beta_2=0.999,opt='sgd'):\n",
    "    \n",
    "    n_outputs = y_ohe.shape[1]\n",
    "    input_shape = (X_train_fs.shape[1],)\n",
    "    \n",
    "    if opt == 'sgd':\n",
    "        opt = SGD(learning_rate=lr,momentum=mom)\n",
    "        \n",
    "    elif opt == 'adam':\n",
    "        opt = Adam(learning_rate=lr,beta_1=0.9,beta_2=0.999)\n",
    "        \n",
    "    met = [CategoricalAccuracy()]\n",
    "    loss = CategoricalCrossentropy()\n",
    "    act = 'softmax'\n",
    "    model = single_layer_perceptron(input_shape,n_outputs,opt,loss,metrics = met,activation=act)\n",
    "    \n",
    "    return model\n",
    "\n",
    "\n",
    "def nn_classifier(lr=0.05,opt='sgd',nn=10,n_hl=2,act='relu',dropout_rate=0.2):\n",
    "    \n",
    "    n_outputs = y_ohe.shape[1]\n",
    "    input_shape = (X_train_fs.shape[1],)\n",
    "    \n",
    "    if opt == 'sgd':\n",
    "        opt = SGD(learning_rate=lr)\n",
    "        \n",
    "    elif opt == 'adam':\n",
    "        opt = Adam(learning_rate=lr)\n",
    "        \n",
    "    met = [CategoricalAccuracy()]\n",
    "    loss = CategoricalCrossentropy()\n",
    "    out_act = 'softmax'\n",
    "    model = multi_layer_perceptron(input_shape,n_outputs,nn,n_hl,act,out_act,opt,loss,met,dropout=True,dropout_rate=dropout_rate)\n",
    "    \n",
    "    return model"
   ]
  },
  {
   "cell_type": "code",
   "execution_count": 81,
   "id": "aa16ee98-f897-4dc9-8d71-6a9389e2cedd",
   "metadata": {},
   "outputs": [],
   "source": [
    "#log_reg_model = logistic_regression(opt='adam')\n",
    "\n",
    "mlp_model = nn_classifier(opt='adam',nn=50,n_hl=5,lr=0.02,act='relu',dropout_rate=0.2)\n"
   ]
  },
  {
   "cell_type": "code",
   "execution_count": 82,
   "id": "261fed9e-02e1-4020-990e-354119be9fc6",
   "metadata": {
    "collapsed": true,
    "jupyter": {
     "outputs_hidden": true
    },
    "tags": []
   },
   "outputs": [
    {
     "name": "stdout",
     "output_type": "stream",
     "text": [
      "Epoch 1/100\n",
      "32/32 [==============================] - 10s 110ms/step - loss: 1.1365 - categorical_accuracy: 0.4393 - val_loss: 0.5531 - val_categorical_accuracy: 0.7675\n",
      "Epoch 2/100\n",
      "32/32 [==============================] - 2s 55ms/step - loss: 0.6766 - categorical_accuracy: 0.6895 - val_loss: 0.5264 - val_categorical_accuracy: 0.7900\n",
      "Epoch 3/100\n",
      "32/32 [==============================] - 2s 56ms/step - loss: 0.5965 - categorical_accuracy: 0.7496 - val_loss: 0.5513 - val_categorical_accuracy: 0.7625\n",
      "Epoch 4/100\n",
      "32/32 [==============================] - 2s 63ms/step - loss: 0.6017 - categorical_accuracy: 0.7511 - val_loss: 0.4532 - val_categorical_accuracy: 0.7925\n",
      "Epoch 5/100\n",
      "32/32 [==============================] - 2s 61ms/step - loss: 0.5418 - categorical_accuracy: 0.7487 - val_loss: 0.4300 - val_categorical_accuracy: 0.8075\n",
      "Epoch 6/100\n",
      "32/32 [==============================] - 2s 63ms/step - loss: 0.5393 - categorical_accuracy: 0.7746 - val_loss: 0.4864 - val_categorical_accuracy: 0.7950\n",
      "Epoch 7/100\n",
      "32/32 [==============================] - 2s 48ms/step - loss: 0.5520 - categorical_accuracy: 0.7494 - val_loss: 0.4476 - val_categorical_accuracy: 0.8000\n",
      "Epoch 8/100\n",
      "32/32 [==============================] - 2s 60ms/step - loss: 0.5181 - categorical_accuracy: 0.7912 - val_loss: 0.4717 - val_categorical_accuracy: 0.7975\n",
      "Epoch 9/100\n",
      "32/32 [==============================] - 2s 56ms/step - loss: 0.5216 - categorical_accuracy: 0.7975 - val_loss: 0.4786 - val_categorical_accuracy: 0.8000\n",
      "Epoch 10/100\n",
      "32/32 [==============================] - 2s 55ms/step - loss: 0.5454 - categorical_accuracy: 0.7625 - val_loss: 0.5049 - val_categorical_accuracy: 0.7825\n",
      "Epoch 11/100\n",
      "32/32 [==============================] - 2s 58ms/step - loss: 0.5349 - categorical_accuracy: 0.7879 - val_loss: 0.5320 - val_categorical_accuracy: 0.7800\n",
      "Epoch 12/100\n",
      "32/32 [==============================] - 2s 63ms/step - loss: 0.5211 - categorical_accuracy: 0.7606 - val_loss: 0.4365 - val_categorical_accuracy: 0.7975\n",
      "Epoch 13/100\n",
      "32/32 [==============================] - 2s 56ms/step - loss: 0.5751 - categorical_accuracy: 0.7586 - val_loss: 0.4901 - val_categorical_accuracy: 0.8025\n",
      "Epoch 14/100\n",
      "32/32 [==============================] - 2s 56ms/step - loss: 0.5162 - categorical_accuracy: 0.7775 - val_loss: 0.4712 - val_categorical_accuracy: 0.7925\n",
      "Epoch 15/100\n",
      "32/32 [==============================] - 2s 57ms/step - loss: 0.5642 - categorical_accuracy: 0.7653 - val_loss: 0.4572 - val_categorical_accuracy: 0.8025\n",
      "Epoch 16/100\n",
      "32/32 [==============================] - 1s 47ms/step - loss: 0.4912 - categorical_accuracy: 0.8015 - val_loss: 0.4635 - val_categorical_accuracy: 0.7875\n",
      "Epoch 17/100\n",
      "32/32 [==============================] - 2s 53ms/step - loss: 0.5137 - categorical_accuracy: 0.7862 - val_loss: 0.4659 - val_categorical_accuracy: 0.8025\n",
      "Epoch 18/100\n",
      "32/32 [==============================] - 2s 59ms/step - loss: 0.5009 - categorical_accuracy: 0.7922 - val_loss: 0.4895 - val_categorical_accuracy: 0.7900\n",
      "Epoch 19/100\n",
      "32/32 [==============================] - 2s 55ms/step - loss: 0.5991 - categorical_accuracy: 0.7526 - val_loss: 0.5297 - val_categorical_accuracy: 0.7875\n",
      "Epoch 20/100\n",
      "32/32 [==============================] - 2s 53ms/step - loss: 0.6106 - categorical_accuracy: 0.7473 - val_loss: 0.4446 - val_categorical_accuracy: 0.8200\n",
      "Epoch 21/100\n",
      "32/32 [==============================] - 2s 65ms/step - loss: 0.5067 - categorical_accuracy: 0.7940 - val_loss: 0.5128 - val_categorical_accuracy: 0.8000\n",
      "Epoch 22/100\n",
      "32/32 [==============================] - 2s 60ms/step - loss: 0.5577 - categorical_accuracy: 0.7664 - val_loss: 0.4641 - val_categorical_accuracy: 0.7950\n",
      "Epoch 23/100\n",
      "32/32 [==============================] - 2s 59ms/step - loss: 0.5010 - categorical_accuracy: 0.7848 - val_loss: 0.4989 - val_categorical_accuracy: 0.7575\n",
      "Epoch 24/100\n",
      "32/32 [==============================] - 2s 59ms/step - loss: 0.5223 - categorical_accuracy: 0.7767 - val_loss: 0.4813 - val_categorical_accuracy: 0.7900\n",
      "Epoch 25/100\n",
      "32/32 [==============================] - 1s 44ms/step - loss: 0.5539 - categorical_accuracy: 0.7714 - val_loss: 0.4288 - val_categorical_accuracy: 0.8175\n",
      "Epoch 26/100\n",
      "32/32 [==============================] - 2s 63ms/step - loss: 0.5648 - categorical_accuracy: 0.7681 - val_loss: 0.4910 - val_categorical_accuracy: 0.7775\n",
      "Epoch 27/100\n",
      "32/32 [==============================] - 2s 59ms/step - loss: 0.5541 - categorical_accuracy: 0.7594 - val_loss: 0.4938 - val_categorical_accuracy: 0.8100\n",
      "Epoch 28/100\n",
      "32/32 [==============================] - 2s 50ms/step - loss: 0.5049 - categorical_accuracy: 0.7864 - val_loss: 0.4286 - val_categorical_accuracy: 0.8200\n",
      "Epoch 29/100\n",
      "32/32 [==============================] - 2s 54ms/step - loss: 0.5110 - categorical_accuracy: 0.8107 - val_loss: 0.4806 - val_categorical_accuracy: 0.8125\n",
      "Epoch 30/100\n",
      "32/32 [==============================] - 2s 49ms/step - loss: 0.5662 - categorical_accuracy: 0.7589 - val_loss: 0.4897 - val_categorical_accuracy: 0.8025\n",
      "Epoch 31/100\n",
      "32/32 [==============================] - 2s 60ms/step - loss: 0.5765 - categorical_accuracy: 0.7533 - val_loss: 0.4711 - val_categorical_accuracy: 0.7825\n",
      "Epoch 32/100\n",
      "32/32 [==============================] - 1s 45ms/step - loss: 0.5527 - categorical_accuracy: 0.7484 - val_loss: 0.4845 - val_categorical_accuracy: 0.7850\n",
      "Epoch 33/100\n",
      "32/32 [==============================] - 2s 48ms/step - loss: 0.5506 - categorical_accuracy: 0.7509 - val_loss: 0.4946 - val_categorical_accuracy: 0.7825\n",
      "Epoch 34/100\n",
      "32/32 [==============================] - 2s 60ms/step - loss: 0.5440 - categorical_accuracy: 0.7663 - val_loss: 0.4944 - val_categorical_accuracy: 0.8050\n",
      "Epoch 35/100\n",
      "32/32 [==============================] - 2s 57ms/step - loss: 0.5376 - categorical_accuracy: 0.7781 - val_loss: 0.4985 - val_categorical_accuracy: 0.8025\n",
      "Epoch 36/100\n",
      "32/32 [==============================] - 2s 54ms/step - loss: 0.4783 - categorical_accuracy: 0.8102 - val_loss: 0.4314 - val_categorical_accuracy: 0.8100\n",
      "Epoch 37/100\n",
      "32/32 [==============================] - 2s 57ms/step - loss: 0.4928 - categorical_accuracy: 0.7959 - val_loss: 0.4548 - val_categorical_accuracy: 0.8075\n",
      "Epoch 38/100\n",
      "32/32 [==============================] - 2s 70ms/step - loss: 0.5162 - categorical_accuracy: 0.7939 - val_loss: 0.4460 - val_categorical_accuracy: 0.8050\n",
      "Epoch 39/100\n",
      "32/32 [==============================] - 2s 62ms/step - loss: 0.5360 - categorical_accuracy: 0.7688 - val_loss: 0.4453 - val_categorical_accuracy: 0.8075\n",
      "Epoch 40/100\n",
      "32/32 [==============================] - 2s 70ms/step - loss: 0.5212 - categorical_accuracy: 0.7850 - val_loss: 0.5080 - val_categorical_accuracy: 0.7650\n",
      "Epoch 41/100\n",
      "32/32 [==============================] - 2s 60ms/step - loss: 0.5273 - categorical_accuracy: 0.7788 - val_loss: 0.4862 - val_categorical_accuracy: 0.8050\n",
      "Epoch 42/100\n",
      "32/32 [==============================] - 2s 56ms/step - loss: 0.5126 - categorical_accuracy: 0.7885 - val_loss: 0.4544 - val_categorical_accuracy: 0.7850\n",
      "Epoch 43/100\n",
      "31/32 [============================>.] - ETA: 0s - loss: 0.5637 - categorical_accuracy: 0.7745"
     ]
    },
    {
     "ename": "KeyboardInterrupt",
     "evalue": "",
     "output_type": "error",
     "traceback": [
      "\u001b[0;31m---------------------------------------------------------------------------\u001b[0m",
      "\u001b[0;31mKeyboardInterrupt\u001b[0m                         Traceback (most recent call last)",
      "Input \u001b[0;32mIn [82]\u001b[0m, in \u001b[0;36m<cell line: 1>\u001b[0;34m()\u001b[0m\n\u001b[0;32m----> 1\u001b[0m \u001b[43mmlp_model\u001b[49m\u001b[38;5;241;43m.\u001b[39;49m\u001b[43mfit\u001b[49m\u001b[43m(\u001b[49m\u001b[43mX_train_fs\u001b[49m\u001b[43m,\u001b[49m\u001b[43my_train_ohe\u001b[49m\u001b[43m,\u001b[49m\u001b[43mvalidation_data\u001b[49m\u001b[38;5;241;43m=\u001b[39;49m\u001b[43m(\u001b[49m\u001b[43mX_val_fs\u001b[49m\u001b[43m,\u001b[49m\u001b[43my_val_ohe\u001b[49m\u001b[43m)\u001b[49m\u001b[43m,\u001b[49m\u001b[43mepochs\u001b[49m\u001b[38;5;241;43m=\u001b[39;49m\u001b[38;5;241;43m100\u001b[39;49m\u001b[43m,\u001b[49m\u001b[43mbatch_size\u001b[49m\u001b[38;5;241;43m=\u001b[39;49m\u001b[38;5;241;43m50\u001b[39;49m\u001b[43m)\u001b[49m\n",
      "File \u001b[0;32m~/anaconda3/lib/python3.8/site-packages/tensorflow/python/keras/engine/training.py:1100\u001b[0m, in \u001b[0;36mModel.fit\u001b[0;34m(self, x, y, batch_size, epochs, verbose, callbacks, validation_split, validation_data, shuffle, class_weight, sample_weight, initial_epoch, steps_per_epoch, validation_steps, validation_batch_size, validation_freq, max_queue_size, workers, use_multiprocessing)\u001b[0m\n\u001b[1;32m   1093\u001b[0m \u001b[38;5;28;01mwith\u001b[39;00m trace\u001b[38;5;241m.\u001b[39mTrace(\n\u001b[1;32m   1094\u001b[0m     \u001b[38;5;124m'\u001b[39m\u001b[38;5;124mtrain\u001b[39m\u001b[38;5;124m'\u001b[39m,\n\u001b[1;32m   1095\u001b[0m     epoch_num\u001b[38;5;241m=\u001b[39mepoch,\n\u001b[1;32m   1096\u001b[0m     step_num\u001b[38;5;241m=\u001b[39mstep,\n\u001b[1;32m   1097\u001b[0m     batch_size\u001b[38;5;241m=\u001b[39mbatch_size,\n\u001b[1;32m   1098\u001b[0m     _r\u001b[38;5;241m=\u001b[39m\u001b[38;5;241m1\u001b[39m):\n\u001b[1;32m   1099\u001b[0m   callbacks\u001b[38;5;241m.\u001b[39mon_train_batch_begin(step)\n\u001b[0;32m-> 1100\u001b[0m   tmp_logs \u001b[38;5;241m=\u001b[39m \u001b[38;5;28;43mself\u001b[39;49m\u001b[38;5;241;43m.\u001b[39;49m\u001b[43mtrain_function\u001b[49m\u001b[43m(\u001b[49m\u001b[43miterator\u001b[49m\u001b[43m)\u001b[49m\n\u001b[1;32m   1101\u001b[0m   \u001b[38;5;28;01mif\u001b[39;00m data_handler\u001b[38;5;241m.\u001b[39mshould_sync:\n\u001b[1;32m   1102\u001b[0m     context\u001b[38;5;241m.\u001b[39masync_wait()\n",
      "File \u001b[0;32m~/anaconda3/lib/python3.8/site-packages/tensorflow/python/eager/def_function.py:828\u001b[0m, in \u001b[0;36mFunction.__call__\u001b[0;34m(self, *args, **kwds)\u001b[0m\n\u001b[1;32m    826\u001b[0m tracing_count \u001b[38;5;241m=\u001b[39m \u001b[38;5;28mself\u001b[39m\u001b[38;5;241m.\u001b[39mexperimental_get_tracing_count()\n\u001b[1;32m    827\u001b[0m \u001b[38;5;28;01mwith\u001b[39;00m trace\u001b[38;5;241m.\u001b[39mTrace(\u001b[38;5;28mself\u001b[39m\u001b[38;5;241m.\u001b[39m_name) \u001b[38;5;28;01mas\u001b[39;00m tm:\n\u001b[0;32m--> 828\u001b[0m   result \u001b[38;5;241m=\u001b[39m \u001b[38;5;28;43mself\u001b[39;49m\u001b[38;5;241;43m.\u001b[39;49m\u001b[43m_call\u001b[49m\u001b[43m(\u001b[49m\u001b[38;5;241;43m*\u001b[39;49m\u001b[43margs\u001b[49m\u001b[43m,\u001b[49m\u001b[43m \u001b[49m\u001b[38;5;241;43m*\u001b[39;49m\u001b[38;5;241;43m*\u001b[39;49m\u001b[43mkwds\u001b[49m\u001b[43m)\u001b[49m\n\u001b[1;32m    829\u001b[0m   compiler \u001b[38;5;241m=\u001b[39m \u001b[38;5;124m\"\u001b[39m\u001b[38;5;124mxla\u001b[39m\u001b[38;5;124m\"\u001b[39m \u001b[38;5;28;01mif\u001b[39;00m \u001b[38;5;28mself\u001b[39m\u001b[38;5;241m.\u001b[39m_experimental_compile \u001b[38;5;28;01melse\u001b[39;00m \u001b[38;5;124m\"\u001b[39m\u001b[38;5;124mnonXla\u001b[39m\u001b[38;5;124m\"\u001b[39m\n\u001b[1;32m    830\u001b[0m   new_tracing_count \u001b[38;5;241m=\u001b[39m \u001b[38;5;28mself\u001b[39m\u001b[38;5;241m.\u001b[39mexperimental_get_tracing_count()\n",
      "File \u001b[0;32m~/anaconda3/lib/python3.8/site-packages/tensorflow/python/eager/def_function.py:855\u001b[0m, in \u001b[0;36mFunction._call\u001b[0;34m(self, *args, **kwds)\u001b[0m\n\u001b[1;32m    852\u001b[0m   \u001b[38;5;28mself\u001b[39m\u001b[38;5;241m.\u001b[39m_lock\u001b[38;5;241m.\u001b[39mrelease()\n\u001b[1;32m    853\u001b[0m   \u001b[38;5;66;03m# In this case we have created variables on the first call, so we run the\u001b[39;00m\n\u001b[1;32m    854\u001b[0m   \u001b[38;5;66;03m# defunned version which is guaranteed to never create variables.\u001b[39;00m\n\u001b[0;32m--> 855\u001b[0m   \u001b[38;5;28;01mreturn\u001b[39;00m \u001b[38;5;28;43mself\u001b[39;49m\u001b[38;5;241;43m.\u001b[39;49m\u001b[43m_stateless_fn\u001b[49m\u001b[43m(\u001b[49m\u001b[38;5;241;43m*\u001b[39;49m\u001b[43margs\u001b[49m\u001b[43m,\u001b[49m\u001b[43m \u001b[49m\u001b[38;5;241;43m*\u001b[39;49m\u001b[38;5;241;43m*\u001b[39;49m\u001b[43mkwds\u001b[49m\u001b[43m)\u001b[49m  \u001b[38;5;66;03m# pylint: disable=not-callable\u001b[39;00m\n\u001b[1;32m    856\u001b[0m \u001b[38;5;28;01melif\u001b[39;00m \u001b[38;5;28mself\u001b[39m\u001b[38;5;241m.\u001b[39m_stateful_fn \u001b[38;5;129;01mis\u001b[39;00m \u001b[38;5;129;01mnot\u001b[39;00m \u001b[38;5;28;01mNone\u001b[39;00m:\n\u001b[1;32m    857\u001b[0m   \u001b[38;5;66;03m# Release the lock early so that multiple threads can perform the call\u001b[39;00m\n\u001b[1;32m    858\u001b[0m   \u001b[38;5;66;03m# in parallel.\u001b[39;00m\n\u001b[1;32m    859\u001b[0m   \u001b[38;5;28mself\u001b[39m\u001b[38;5;241m.\u001b[39m_lock\u001b[38;5;241m.\u001b[39mrelease()\n",
      "File \u001b[0;32m~/anaconda3/lib/python3.8/site-packages/tensorflow/python/eager/function.py:2942\u001b[0m, in \u001b[0;36mFunction.__call__\u001b[0;34m(self, *args, **kwargs)\u001b[0m\n\u001b[1;32m   2939\u001b[0m \u001b[38;5;28;01mwith\u001b[39;00m \u001b[38;5;28mself\u001b[39m\u001b[38;5;241m.\u001b[39m_lock:\n\u001b[1;32m   2940\u001b[0m   (graph_function,\n\u001b[1;32m   2941\u001b[0m    filtered_flat_args) \u001b[38;5;241m=\u001b[39m \u001b[38;5;28mself\u001b[39m\u001b[38;5;241m.\u001b[39m_maybe_define_function(args, kwargs)\n\u001b[0;32m-> 2942\u001b[0m \u001b[38;5;28;01mreturn\u001b[39;00m \u001b[43mgraph_function\u001b[49m\u001b[38;5;241;43m.\u001b[39;49m\u001b[43m_call_flat\u001b[49m\u001b[43m(\u001b[49m\n\u001b[1;32m   2943\u001b[0m \u001b[43m    \u001b[49m\u001b[43mfiltered_flat_args\u001b[49m\u001b[43m,\u001b[49m\u001b[43m \u001b[49m\u001b[43mcaptured_inputs\u001b[49m\u001b[38;5;241;43m=\u001b[39;49m\u001b[43mgraph_function\u001b[49m\u001b[38;5;241;43m.\u001b[39;49m\u001b[43mcaptured_inputs\u001b[49m\u001b[43m)\u001b[49m\n",
      "File \u001b[0;32m~/anaconda3/lib/python3.8/site-packages/tensorflow/python/eager/function.py:1918\u001b[0m, in \u001b[0;36mConcreteFunction._call_flat\u001b[0;34m(self, args, captured_inputs, cancellation_manager)\u001b[0m\n\u001b[1;32m   1914\u001b[0m possible_gradient_type \u001b[38;5;241m=\u001b[39m gradients_util\u001b[38;5;241m.\u001b[39mPossibleTapeGradientTypes(args)\n\u001b[1;32m   1915\u001b[0m \u001b[38;5;28;01mif\u001b[39;00m (possible_gradient_type \u001b[38;5;241m==\u001b[39m gradients_util\u001b[38;5;241m.\u001b[39mPOSSIBLE_GRADIENT_TYPES_NONE\n\u001b[1;32m   1916\u001b[0m     \u001b[38;5;129;01mand\u001b[39;00m executing_eagerly):\n\u001b[1;32m   1917\u001b[0m   \u001b[38;5;66;03m# No tape is watching; skip to running the function.\u001b[39;00m\n\u001b[0;32m-> 1918\u001b[0m   \u001b[38;5;28;01mreturn\u001b[39;00m \u001b[38;5;28mself\u001b[39m\u001b[38;5;241m.\u001b[39m_build_call_outputs(\u001b[38;5;28;43mself\u001b[39;49m\u001b[38;5;241;43m.\u001b[39;49m\u001b[43m_inference_function\u001b[49m\u001b[38;5;241;43m.\u001b[39;49m\u001b[43mcall\u001b[49m\u001b[43m(\u001b[49m\n\u001b[1;32m   1919\u001b[0m \u001b[43m      \u001b[49m\u001b[43mctx\u001b[49m\u001b[43m,\u001b[49m\u001b[43m \u001b[49m\u001b[43margs\u001b[49m\u001b[43m,\u001b[49m\u001b[43m \u001b[49m\u001b[43mcancellation_manager\u001b[49m\u001b[38;5;241;43m=\u001b[39;49m\u001b[43mcancellation_manager\u001b[49m\u001b[43m)\u001b[49m)\n\u001b[1;32m   1920\u001b[0m forward_backward \u001b[38;5;241m=\u001b[39m \u001b[38;5;28mself\u001b[39m\u001b[38;5;241m.\u001b[39m_select_forward_and_backward_functions(\n\u001b[1;32m   1921\u001b[0m     args,\n\u001b[1;32m   1922\u001b[0m     possible_gradient_type,\n\u001b[1;32m   1923\u001b[0m     executing_eagerly)\n\u001b[1;32m   1924\u001b[0m forward_function, args_with_tangents \u001b[38;5;241m=\u001b[39m forward_backward\u001b[38;5;241m.\u001b[39mforward()\n",
      "File \u001b[0;32m~/anaconda3/lib/python3.8/site-packages/tensorflow/python/eager/function.py:555\u001b[0m, in \u001b[0;36m_EagerDefinedFunction.call\u001b[0;34m(self, ctx, args, cancellation_manager)\u001b[0m\n\u001b[1;32m    553\u001b[0m \u001b[38;5;28;01mwith\u001b[39;00m _InterpolateFunctionError(\u001b[38;5;28mself\u001b[39m):\n\u001b[1;32m    554\u001b[0m   \u001b[38;5;28;01mif\u001b[39;00m cancellation_manager \u001b[38;5;129;01mis\u001b[39;00m \u001b[38;5;28;01mNone\u001b[39;00m:\n\u001b[0;32m--> 555\u001b[0m     outputs \u001b[38;5;241m=\u001b[39m \u001b[43mexecute\u001b[49m\u001b[38;5;241;43m.\u001b[39;49m\u001b[43mexecute\u001b[49m\u001b[43m(\u001b[49m\n\u001b[1;32m    556\u001b[0m \u001b[43m        \u001b[49m\u001b[38;5;28;43mstr\u001b[39;49m\u001b[43m(\u001b[49m\u001b[38;5;28;43mself\u001b[39;49m\u001b[38;5;241;43m.\u001b[39;49m\u001b[43msignature\u001b[49m\u001b[38;5;241;43m.\u001b[39;49m\u001b[43mname\u001b[49m\u001b[43m)\u001b[49m\u001b[43m,\u001b[49m\n\u001b[1;32m    557\u001b[0m \u001b[43m        \u001b[49m\u001b[43mnum_outputs\u001b[49m\u001b[38;5;241;43m=\u001b[39;49m\u001b[38;5;28;43mself\u001b[39;49m\u001b[38;5;241;43m.\u001b[39;49m\u001b[43m_num_outputs\u001b[49m\u001b[43m,\u001b[49m\n\u001b[1;32m    558\u001b[0m \u001b[43m        \u001b[49m\u001b[43minputs\u001b[49m\u001b[38;5;241;43m=\u001b[39;49m\u001b[43margs\u001b[49m\u001b[43m,\u001b[49m\n\u001b[1;32m    559\u001b[0m \u001b[43m        \u001b[49m\u001b[43mattrs\u001b[49m\u001b[38;5;241;43m=\u001b[39;49m\u001b[43mattrs\u001b[49m\u001b[43m,\u001b[49m\n\u001b[1;32m    560\u001b[0m \u001b[43m        \u001b[49m\u001b[43mctx\u001b[49m\u001b[38;5;241;43m=\u001b[39;49m\u001b[43mctx\u001b[49m\u001b[43m)\u001b[49m\n\u001b[1;32m    561\u001b[0m   \u001b[38;5;28;01melse\u001b[39;00m:\n\u001b[1;32m    562\u001b[0m     outputs \u001b[38;5;241m=\u001b[39m execute\u001b[38;5;241m.\u001b[39mexecute_with_cancellation(\n\u001b[1;32m    563\u001b[0m         \u001b[38;5;28mstr\u001b[39m(\u001b[38;5;28mself\u001b[39m\u001b[38;5;241m.\u001b[39msignature\u001b[38;5;241m.\u001b[39mname),\n\u001b[1;32m    564\u001b[0m         num_outputs\u001b[38;5;241m=\u001b[39m\u001b[38;5;28mself\u001b[39m\u001b[38;5;241m.\u001b[39m_num_outputs,\n\u001b[0;32m   (...)\u001b[0m\n\u001b[1;32m    567\u001b[0m         ctx\u001b[38;5;241m=\u001b[39mctx,\n\u001b[1;32m    568\u001b[0m         cancellation_manager\u001b[38;5;241m=\u001b[39mcancellation_manager)\n",
      "File \u001b[0;32m~/anaconda3/lib/python3.8/site-packages/tensorflow/python/eager/execute.py:59\u001b[0m, in \u001b[0;36mquick_execute\u001b[0;34m(op_name, num_outputs, inputs, attrs, ctx, name)\u001b[0m\n\u001b[1;32m     57\u001b[0m \u001b[38;5;28;01mtry\u001b[39;00m:\n\u001b[1;32m     58\u001b[0m   ctx\u001b[38;5;241m.\u001b[39mensure_initialized()\n\u001b[0;32m---> 59\u001b[0m   tensors \u001b[38;5;241m=\u001b[39m \u001b[43mpywrap_tfe\u001b[49m\u001b[38;5;241;43m.\u001b[39;49m\u001b[43mTFE_Py_Execute\u001b[49m\u001b[43m(\u001b[49m\u001b[43mctx\u001b[49m\u001b[38;5;241;43m.\u001b[39;49m\u001b[43m_handle\u001b[49m\u001b[43m,\u001b[49m\u001b[43m \u001b[49m\u001b[43mdevice_name\u001b[49m\u001b[43m,\u001b[49m\u001b[43m \u001b[49m\u001b[43mop_name\u001b[49m\u001b[43m,\u001b[49m\n\u001b[1;32m     60\u001b[0m \u001b[43m                                      \u001b[49m\u001b[43minputs\u001b[49m\u001b[43m,\u001b[49m\u001b[43m \u001b[49m\u001b[43mattrs\u001b[49m\u001b[43m,\u001b[49m\u001b[43m \u001b[49m\u001b[43mnum_outputs\u001b[49m\u001b[43m)\u001b[49m\n\u001b[1;32m     61\u001b[0m \u001b[38;5;28;01mexcept\u001b[39;00m core\u001b[38;5;241m.\u001b[39m_NotOkStatusException \u001b[38;5;28;01mas\u001b[39;00m e:\n\u001b[1;32m     62\u001b[0m   \u001b[38;5;28;01mif\u001b[39;00m name \u001b[38;5;129;01mis\u001b[39;00m \u001b[38;5;129;01mnot\u001b[39;00m \u001b[38;5;28;01mNone\u001b[39;00m:\n",
      "\u001b[0;31mKeyboardInterrupt\u001b[0m: "
     ]
    }
   ],
   "source": [
    "mlp_model.fit(X_train_fs,y_train_ohe,validation_data=(X_val_fs,y_val_ohe),epochs=100,batch_size=50)"
   ]
  },
  {
   "cell_type": "code",
   "execution_count": 86,
   "id": "6154545f-4ee4-497a-ae4d-14b96720fe26",
   "metadata": {
    "tags": []
   },
   "outputs": [],
   "source": [
    "class hyper_model(kt.HyperModel):\n",
    "    \n",
    "    def build(self, hp):\n",
    "        \n",
    "        lr_space = hp.Float('learning_rate',1e-4,0.9999,sampling='log')\n",
    "        opt_space = hp.Choice('optimizer',['adam','sgd'])\n",
    "        nn_space = hp.Int('number_neurons',1,100,sampling='log')\n",
    "        hl_space = hp.Int('number_hidden_layers',1,10,sampling='log')\n",
    "        act_space = hp.Choice('activation',['relu','sigmoid','tanh','elu'])\n",
    "        dr_space = hp.Float('dropout_rate',1e-4,0.4)\n",
    "        \n",
    "        model = nn_classifier(lr_space,opt_space,nn_space,hl_space,act_space,dr_space)\n",
    "        \n",
    "        return model"
   ]
  },
  {
   "cell_type": "code",
   "execution_count": 103,
   "id": "ae68ee58-2225-43f0-bcdc-6c858fd2303a",
   "metadata": {},
   "outputs": [],
   "source": [
    "hp = kt.HyperParameters()\n",
    "mlp_hyper_model = hyper_model()"
   ]
  },
  {
   "cell_type": "code",
   "execution_count": 114,
   "id": "45de7c66-37a1-40bf-b43b-5af1e59e1112",
   "metadata": {},
   "outputs": [
    {
     "name": "stdout",
     "output_type": "stream",
     "text": [
      "INFO:tensorflow:Reloading Oracle from existing project ./untitled_project/oracle.json\n"
     ]
    }
   ],
   "source": [
    "random_search = kt.RandomSearch(hypermodel=mlp_hyper_model,\n",
    "                               objective='val_categorical_accuracy',\n",
    "                               max_trials=10,\n",
    "                               seed=145)"
   ]
  },
  {
   "cell_type": "code",
   "execution_count": 115,
   "id": "28a52ffb-df82-4843-9ca1-ce965df1a7a9",
   "metadata": {},
   "outputs": [],
   "source": [
    "\n",
    "Epochs = 50\n",
    "Batch_size = 40\n",
    "Callbacks = [EarlyStopping(min_delta=1e-4,patience=3)]"
   ]
  },
  {
   "cell_type": "code",
   "execution_count": 116,
   "id": "54e16473-962d-4629-bd3d-af5df1e791bb",
   "metadata": {},
   "outputs": [
    {
     "name": "stdout",
     "output_type": "stream",
     "text": [
      "Trial 10 Complete [00h 00m 19s]\n",
      "val_categorical_accuracy: 0.24250000715255737\n",
      "\n",
      "Best val_categorical_accuracy So Far: 0.8149999976158142\n",
      "Total elapsed time: 00h 06m 55s\n",
      "INFO:tensorflow:Oracle triggered exit\n"
     ]
    }
   ],
   "source": [
    "random_search.search(X_train_fs,y_train_ohe,\n",
    "                     validation_data=(X_val_fs,y_val_ohe),\n",
    "                     epochs=Epochs,\n",
    "                    batch_size=Batch_size,\n",
    "                    callbacks=Callbacks)"
   ]
  },
  {
   "cell_type": "code",
   "execution_count": 121,
   "id": "bb7ee762-5c06-4bca-ae54-7cb3db5562d0",
   "metadata": {},
   "outputs": [
    {
     "name": "stdout",
     "output_type": "stream",
     "text": [
      "WARNING:tensorflow:Unresolved object in checkpoint: (root).optimizer.iter\n",
      "WARNING:tensorflow:Unresolved object in checkpoint: (root).optimizer.decay\n",
      "WARNING:tensorflow:Unresolved object in checkpoint: (root).optimizer.learning_rate\n",
      "WARNING:tensorflow:Unresolved object in checkpoint: (root).optimizer.momentum\n",
      "WARNING:tensorflow:A checkpoint was restored (e.g. tf.train.Checkpoint.restore or tf.keras.Model.load_weights) but not all checkpointed values were used. See above for specific issues. Use expect_partial() on the load status object, e.g. tf.train.Checkpoint.restore(...).expect_partial(), to silence these warnings, or use assert_consumed() to make the check explicit. See https://www.tensorflow.org/guide/checkpoint#loading_mechanics for details.\n"
     ]
    }
   ],
   "source": [
    "best_model = random_search.get_best_models()"
   ]
  },
  {
   "cell_type": "code",
   "execution_count": 122,
   "id": "e80bc12d-0134-44ca-8aa6-4d5b6932ab89",
   "metadata": {},
   "outputs": [],
   "source": [
    "best_model = best_model[0]"
   ]
  },
  {
   "cell_type": "code",
   "execution_count": 123,
   "id": "d8950c92-1090-431a-aa61-6e4f1d0f2b07",
   "metadata": {},
   "outputs": [
    {
     "name": "stdout",
     "output_type": "stream",
     "text": [
      "Model: \"model\"\n",
      "_________________________________________________________________\n",
      "Layer (type)                 Output Shape              Param #   \n",
      "=================================================================\n",
      "input_1 (InputLayer)         [(None, 2)]               0         \n",
      "_________________________________________________________________\n",
      "dense (Dense)                (None, 97)                291       \n",
      "_________________________________________________________________\n",
      "dropout (Dropout)            (None, 97)                0         \n",
      "_________________________________________________________________\n",
      "dense_1 (Dense)              (None, 97)                9506      \n",
      "_________________________________________________________________\n",
      "dropout_1 (Dropout)          (None, 97)                0         \n",
      "_________________________________________________________________\n",
      "dense_2 (Dense)              (None, 4)                 392       \n",
      "=================================================================\n",
      "Total params: 10,189\n",
      "Trainable params: 10,189\n",
      "Non-trainable params: 0\n",
      "_________________________________________________________________\n"
     ]
    }
   ],
   "source": [
    "best_model.summary()"
   ]
  },
  {
   "cell_type": "code",
   "execution_count": 125,
   "id": "8e84b049-4d94-4f26-ba72-0cdeb604701e",
   "metadata": {},
   "outputs": [],
   "source": [
    "best_hp = random_search.get_best_hyperparameters()[0]"
   ]
  },
  {
   "cell_type": "code",
   "execution_count": 126,
   "id": "8b151aca-7bf5-4aff-9093-1aeed969eeab",
   "metadata": {},
   "outputs": [
    {
     "data": {
      "text/plain": [
       "{'learning_rate': 0.0670292335346274,\n",
       " 'optimizer': 'sgd',\n",
       " 'number_neurons': 97,\n",
       " 'number_hidden_layers': 2,\n",
       " 'activation': 'tanh',\n",
       " 'dropout_rate': 0.19516301359609764}"
      ]
     },
     "execution_count": 126,
     "metadata": {},
     "output_type": "execute_result"
    }
   ],
   "source": [
    "best_hp.values"
   ]
  },
  {
   "cell_type": "code",
   "execution_count": null,
   "id": "e5805b60-50af-48cc-9e3a-580288a493d3",
   "metadata": {},
   "outputs": [],
   "source": []
  }
 ],
 "metadata": {
  "kernelspec": {
   "display_name": "Python 3 (ipykernel)",
   "language": "python",
   "name": "python3"
  },
  "language_info": {
   "codemirror_mode": {
    "name": "ipython",
    "version": 3
   },
   "file_extension": ".py",
   "mimetype": "text/x-python",
   "name": "python",
   "nbconvert_exporter": "python",
   "pygments_lexer": "ipython3",
   "version": "3.8.8"
  }
 },
 "nbformat": 4,
 "nbformat_minor": 5
}
