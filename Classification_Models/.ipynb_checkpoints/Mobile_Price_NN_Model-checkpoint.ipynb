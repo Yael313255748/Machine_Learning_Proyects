{
 "cells": [
  {
   "cell_type": "code",
   "execution_count": 47,
   "id": "f8fcecee-2648-46e6-8a83-b2ff4a94db94",
   "metadata": {},
   "outputs": [],
   "source": [
    "import pandas as pd\n",
    "import numpy as np\n",
    "from Machine_Learning_Tools.Neural_Networks_Models import cross_val_metrics,multi_layer_perceptron,single_layer_perceptron\n",
    "from tensorflow.keras.losses import CategoricalCrossentropy\n",
    "from tensorflow.keras import activations\n",
    "from tensorflow.keras.optimizers import Adam,SGD\n",
    "from tensorflow.keras.metrics import CategoricalAccuracy\n",
    "from sklearn.tree import DecisionTreeClassifier\n",
    "from sklearn.preprocessing import OneHotEncoder,MinMaxScaler\n",
    "from sklearn.compose import ColumnTransformer\n",
    "from sklearn.decomposition import PCA\n",
    "from Machine_Learning_Tools.plots import correlogram, pairplot\n",
    "import warnings\n",
    "warnings.filterwarnings(\"ignore\")\n",
    "\n",
    "import matplotlib.pyplot as plt\n",
    "import seaborn as sns\n",
    "sns.set_theme(context='notebook',style='whitegrid',palette='autumn',font_scale=1.5)\n",
    "%matplotlib inline"
   ]
  },
  {
   "cell_type": "code",
   "execution_count": 2,
   "id": "19cf723a-19b7-476e-a9dd-e524f95811d8",
   "metadata": {},
   "outputs": [],
   "source": [
    "train = pd.read_csv('datasets/Mobile_Price/train.csv')\n",
    "\n",
    "test = pd.read_csv('datasets/Mobile_Price/test.csv')"
   ]
  },
  {
   "cell_type": "code",
   "execution_count": 3,
   "id": "be21bfb5-acf1-4d57-9c74-f7cc1ac5051f",
   "metadata": {},
   "outputs": [
    {
     "data": {
      "text/html": [
       "<div>\n",
       "<style scoped>\n",
       "    .dataframe tbody tr th:only-of-type {\n",
       "        vertical-align: middle;\n",
       "    }\n",
       "\n",
       "    .dataframe tbody tr th {\n",
       "        vertical-align: top;\n",
       "    }\n",
       "\n",
       "    .dataframe thead th {\n",
       "        text-align: right;\n",
       "    }\n",
       "</style>\n",
       "<table border=\"1\" class=\"dataframe\">\n",
       "  <thead>\n",
       "    <tr style=\"text-align: right;\">\n",
       "      <th></th>\n",
       "      <th>battery_power</th>\n",
       "      <th>blue</th>\n",
       "      <th>clock_speed</th>\n",
       "      <th>dual_sim</th>\n",
       "      <th>fc</th>\n",
       "      <th>four_g</th>\n",
       "      <th>int_memory</th>\n",
       "      <th>m_dep</th>\n",
       "      <th>mobile_wt</th>\n",
       "      <th>n_cores</th>\n",
       "      <th>...</th>\n",
       "      <th>px_height</th>\n",
       "      <th>px_width</th>\n",
       "      <th>ram</th>\n",
       "      <th>sc_h</th>\n",
       "      <th>sc_w</th>\n",
       "      <th>talk_time</th>\n",
       "      <th>three_g</th>\n",
       "      <th>touch_screen</th>\n",
       "      <th>wifi</th>\n",
       "      <th>price_range</th>\n",
       "    </tr>\n",
       "  </thead>\n",
       "  <tbody>\n",
       "    <tr>\n",
       "      <th>0</th>\n",
       "      <td>842</td>\n",
       "      <td>0</td>\n",
       "      <td>2.2</td>\n",
       "      <td>0</td>\n",
       "      <td>1</td>\n",
       "      <td>0</td>\n",
       "      <td>7</td>\n",
       "      <td>0.6</td>\n",
       "      <td>188</td>\n",
       "      <td>2</td>\n",
       "      <td>...</td>\n",
       "      <td>20</td>\n",
       "      <td>756</td>\n",
       "      <td>2549</td>\n",
       "      <td>9</td>\n",
       "      <td>7</td>\n",
       "      <td>19</td>\n",
       "      <td>0</td>\n",
       "      <td>0</td>\n",
       "      <td>1</td>\n",
       "      <td>1</td>\n",
       "    </tr>\n",
       "    <tr>\n",
       "      <th>1</th>\n",
       "      <td>1021</td>\n",
       "      <td>1</td>\n",
       "      <td>0.5</td>\n",
       "      <td>1</td>\n",
       "      <td>0</td>\n",
       "      <td>1</td>\n",
       "      <td>53</td>\n",
       "      <td>0.7</td>\n",
       "      <td>136</td>\n",
       "      <td>3</td>\n",
       "      <td>...</td>\n",
       "      <td>905</td>\n",
       "      <td>1988</td>\n",
       "      <td>2631</td>\n",
       "      <td>17</td>\n",
       "      <td>3</td>\n",
       "      <td>7</td>\n",
       "      <td>1</td>\n",
       "      <td>1</td>\n",
       "      <td>0</td>\n",
       "      <td>2</td>\n",
       "    </tr>\n",
       "    <tr>\n",
       "      <th>2</th>\n",
       "      <td>563</td>\n",
       "      <td>1</td>\n",
       "      <td>0.5</td>\n",
       "      <td>1</td>\n",
       "      <td>2</td>\n",
       "      <td>1</td>\n",
       "      <td>41</td>\n",
       "      <td>0.9</td>\n",
       "      <td>145</td>\n",
       "      <td>5</td>\n",
       "      <td>...</td>\n",
       "      <td>1263</td>\n",
       "      <td>1716</td>\n",
       "      <td>2603</td>\n",
       "      <td>11</td>\n",
       "      <td>2</td>\n",
       "      <td>9</td>\n",
       "      <td>1</td>\n",
       "      <td>1</td>\n",
       "      <td>0</td>\n",
       "      <td>2</td>\n",
       "    </tr>\n",
       "    <tr>\n",
       "      <th>3</th>\n",
       "      <td>615</td>\n",
       "      <td>1</td>\n",
       "      <td>2.5</td>\n",
       "      <td>0</td>\n",
       "      <td>0</td>\n",
       "      <td>0</td>\n",
       "      <td>10</td>\n",
       "      <td>0.8</td>\n",
       "      <td>131</td>\n",
       "      <td>6</td>\n",
       "      <td>...</td>\n",
       "      <td>1216</td>\n",
       "      <td>1786</td>\n",
       "      <td>2769</td>\n",
       "      <td>16</td>\n",
       "      <td>8</td>\n",
       "      <td>11</td>\n",
       "      <td>1</td>\n",
       "      <td>0</td>\n",
       "      <td>0</td>\n",
       "      <td>2</td>\n",
       "    </tr>\n",
       "    <tr>\n",
       "      <th>4</th>\n",
       "      <td>1821</td>\n",
       "      <td>1</td>\n",
       "      <td>1.2</td>\n",
       "      <td>0</td>\n",
       "      <td>13</td>\n",
       "      <td>1</td>\n",
       "      <td>44</td>\n",
       "      <td>0.6</td>\n",
       "      <td>141</td>\n",
       "      <td>2</td>\n",
       "      <td>...</td>\n",
       "      <td>1208</td>\n",
       "      <td>1212</td>\n",
       "      <td>1411</td>\n",
       "      <td>8</td>\n",
       "      <td>2</td>\n",
       "      <td>15</td>\n",
       "      <td>1</td>\n",
       "      <td>1</td>\n",
       "      <td>0</td>\n",
       "      <td>1</td>\n",
       "    </tr>\n",
       "  </tbody>\n",
       "</table>\n",
       "<p>5 rows × 21 columns</p>\n",
       "</div>"
      ],
      "text/plain": [
       "   battery_power  blue  clock_speed  dual_sim  fc  four_g  int_memory  m_dep  \\\n",
       "0            842     0          2.2         0   1       0           7    0.6   \n",
       "1           1021     1          0.5         1   0       1          53    0.7   \n",
       "2            563     1          0.5         1   2       1          41    0.9   \n",
       "3            615     1          2.5         0   0       0          10    0.8   \n",
       "4           1821     1          1.2         0  13       1          44    0.6   \n",
       "\n",
       "   mobile_wt  n_cores  ...  px_height  px_width   ram  sc_h  sc_w  talk_time  \\\n",
       "0        188        2  ...         20       756  2549     9     7         19   \n",
       "1        136        3  ...        905      1988  2631    17     3          7   \n",
       "2        145        5  ...       1263      1716  2603    11     2          9   \n",
       "3        131        6  ...       1216      1786  2769    16     8         11   \n",
       "4        141        2  ...       1208      1212  1411     8     2         15   \n",
       "\n",
       "   three_g  touch_screen  wifi  price_range  \n",
       "0        0             0     1            1  \n",
       "1        1             1     0            2  \n",
       "2        1             1     0            2  \n",
       "3        1             0     0            2  \n",
       "4        1             1     0            1  \n",
       "\n",
       "[5 rows x 21 columns]"
      ]
     },
     "execution_count": 3,
     "metadata": {},
     "output_type": "execute_result"
    }
   ],
   "source": [
    "train.head()"
   ]
  },
  {
   "cell_type": "code",
   "execution_count": 4,
   "id": "16684475-6c0d-442b-b842-c0970f4b0e09",
   "metadata": {},
   "outputs": [
    {
     "name": "stdout",
     "output_type": "stream",
     "text": [
      "<class 'pandas.core.frame.DataFrame'>\n",
      "RangeIndex: 2000 entries, 0 to 1999\n",
      "Data columns (total 21 columns):\n",
      " #   Column         Non-Null Count  Dtype  \n",
      "---  ------         --------------  -----  \n",
      " 0   battery_power  2000 non-null   int64  \n",
      " 1   blue           2000 non-null   int64  \n",
      " 2   clock_speed    2000 non-null   float64\n",
      " 3   dual_sim       2000 non-null   int64  \n",
      " 4   fc             2000 non-null   int64  \n",
      " 5   four_g         2000 non-null   int64  \n",
      " 6   int_memory     2000 non-null   int64  \n",
      " 7   m_dep          2000 non-null   float64\n",
      " 8   mobile_wt      2000 non-null   int64  \n",
      " 9   n_cores        2000 non-null   int64  \n",
      " 10  pc             2000 non-null   int64  \n",
      " 11  px_height      2000 non-null   int64  \n",
      " 12  px_width       2000 non-null   int64  \n",
      " 13  ram            2000 non-null   int64  \n",
      " 14  sc_h           2000 non-null   int64  \n",
      " 15  sc_w           2000 non-null   int64  \n",
      " 16  talk_time      2000 non-null   int64  \n",
      " 17  three_g        2000 non-null   int64  \n",
      " 18  touch_screen   2000 non-null   int64  \n",
      " 19  wifi           2000 non-null   int64  \n",
      " 20  price_range    2000 non-null   int64  \n",
      "dtypes: float64(2), int64(19)\n",
      "memory usage: 328.2 KB\n"
     ]
    }
   ],
   "source": [
    "train.info()"
   ]
  },
  {
   "cell_type": "code",
   "execution_count": 5,
   "id": "f4682944-86f1-4032-85d6-199aef4da78e",
   "metadata": {},
   "outputs": [
    {
     "data": {
      "image/png": "[encoded data removed]",
      "text/plain": [
       "<Figure size 1296x720 with 2 Axes>"
      ]
     },
     "metadata": {
      "needs_background": "light"
     },
     "output_type": "display_data"
    }
   ],
   "source": [
    "cols = list(train.columns)\n",
    "correlogram(train, col = cols,figsize=(18,10))"
   ]
  },
  {
   "cell_type": "code",
   "execution_count": null,
   "id": "24800846-d721-488c-8c98-42d52f6a08e7",
   "metadata": {},
   "outputs": [],
   "source": [
    "pairplot(train,cols,aspect= 2,height= 8)"
   ]
  },
  {
   "cell_type": "code",
   "execution_count": 20,
   "id": "f24b5f5f-bf4f-4db2-ad1c-47e10ce99a49",
   "metadata": {},
   "outputs": [],
   "source": [
    "features = cols[:-1]\n",
    "target = [cols[-1]]\n",
    "\n",
    "X = train[features]\n",
    "\n",
    "y = train[target]\n"
   ]
  },
  {
   "cell_type": "code",
   "execution_count": 21,
   "id": "f2a3e07d-352b-44fc-abe0-628a2d82ee94",
   "metadata": {},
   "outputs": [],
   "source": [
    "features_scaler = MinMaxScaler()\n",
    "features_scaler.fit(X)\n",
    "\n",
    "X_scaled = features_scaler.transform(X)\n",
    "\n",
    "y_ohe = pd.get_dummies(y,dtype=float,columns=target).values"
   ]
  },
  {
   "cell_type": "code",
   "execution_count": 28,
   "id": "90ac26a7-2bf2-44b9-b58e-94225299fed5",
   "metadata": {},
   "outputs": [],
   "source": [
    "pca_features = PCA()\n",
    "pca_features.fit(X_scaled)\n",
    "\n",
    "pc = []\n",
    "\n",
    "for i in range(X_scaled.shape[1]):\n",
    "    \n",
    "    pc.append('PC_{}'.format(i+1))\n",
    "\n",
    "var_ratio_cum = pca_features.explained_variance_ratio_.cumsum()\n",
    "\n",
    "data_vr_cum = pd.DataFrame({'Principal_Component':pc,'Var_ratio_cum':var_ratio_cum})"
   ]
  },
  {
   "cell_type": "code",
   "execution_count": 38,
   "id": "59c1c089-7e21-4913-98c6-3d086963a7ce",
   "metadata": {},
   "outputs": [
    {
     "data": {
      "image/png": "[encoded data removed]",
      "text/plain": [
       "<Figure size 1440x576 with 1 Axes>"
      ]
     },
     "metadata": {
      "needs_background": "light"
     },
     "output_type": "display_data"
    }
   ],
   "source": [
    "plt.figure(figsize=(20,8))\n",
    "sns.barplot(x='Principal_Component',y='Var_ratio_cum',data=data_vr_cum)\n",
    "plt.show()"
   ]
  },
  {
   "cell_type": "code",
   "execution_count": 43,
   "id": "4a87c80b-59a5-45dd-813c-fbb75fbeddf7",
   "metadata": {},
   "outputs": [],
   "source": [
    "X_pca = pca_features.transform(X_scaled)[:,:15]"
   ]
  },
  {
   "cell_type": "code",
   "execution_count": 50,
   "id": "3da89897-db2e-4d22-860a-31947f2b9947",
   "metadata": {},
   "outputs": [],
   "source": [
    "def logistic_regression(lr=0.05,mom=0.99,opt='sgd'):\n",
    "    \n",
    "    n_outputs = y_ohe.shape[1]\n",
    "    input_shape = (X_pca.shape[1],)\n",
    "    \n",
    "    if opt == 'sgd':\n",
    "        opt = SGD(learning_rate=lr,momentum=mom)\n",
    "        \n",
    "    elif opt == 'adam':\n",
    "        opt = Adam(learning_rate=lr,momentum=mom)\n",
    "        \n",
    "    met = [CategoricalAccuracy()]\n",
    "    loss = CategoricalCrossentropy()\n",
    "    act = 'softmax'\n",
    "    model = single_layer_perceptron(input_shape,n_outputs,opt,loss,metrics = met,activation=act)\n",
    "    \n",
    "    return model\n",
    "\n",
    "\n",
    "def nn_classifier(lr=0.05,mom=0.99):\n",
    "    \n",
    "    n_outputs = y_ohe.shape[1]\n",
    "    input_shape = (X_pca.shape[1],)\n",
    "    opt = SGD(learning_rate=lr,momentum=mom)\n",
    "    met = [CategoricalAccuracy()]\n",
    "    loss = CategoricalCrossentropy()\n",
    "    nn=100\n",
    "    n_hl = 2\n",
    "    act='sigmoid'\n",
    "    out_act = 'softmax'\n",
    "    model = multi_layer_perceptron(input_shape,n_outputs,nn,n_hl,act,out_act,opt,loss,met,batch_normalization=False,epsilon_bn=1e-3,\n",
    "                                    momentum_bn=0.99)\n",
    "    \n",
    "    return model"
   ]
  },
  {
   "cell_type": "code",
   "execution_count": 51,
   "id": "aa16ee98-f897-4dc9-8d71-6a9389e2cedd",
   "metadata": {},
   "outputs": [],
   "source": [
    "log_reg_model = logistic_regression(opt='adam')\n",
    "\n",
    "mlp_model = nn_classifier()"
   ]
  },
  {
   "cell_type": "code",
   "execution_count": 52,
   "id": "261fed9e-02e1-4020-990e-354119be9fc6",
   "metadata": {},
   "outputs": [
    {
     "name": "stdout",
     "output_type": "stream",
     "text": [
      "Epoch 1/20\n",
      "32/32 [==============================] - 4s 66ms/step - loss: 1.3634 - categorical_accuracy: 0.3358 - val_loss: 1.2477 - val_categorical_accuracy: 0.3975\n",
      "Epoch 2/20\n",
      "32/32 [==============================] - 1s 31ms/step - loss: 1.1713 - categorical_accuracy: 0.4910 - val_loss: 1.1590 - val_categorical_accuracy: 0.4350\n",
      "Epoch 3/20\n",
      "32/32 [==============================] - 1s 31ms/step - loss: 1.1100 - categorical_accuracy: 0.5006 - val_loss: 1.1710 - val_categorical_accuracy: 0.4525\n",
      "Epoch 4/20\n",
      "32/32 [==============================] - 1s 33ms/step - loss: 1.1208 - categorical_accuracy: 0.5143 - val_loss: 1.1716 - val_categorical_accuracy: 0.4775\n",
      "Epoch 5/20\n",
      "32/32 [==============================] - 1s 32ms/step - loss: 1.1567 - categorical_accuracy: 0.4869 - val_loss: 1.1980 - val_categorical_accuracy: 0.4550\n",
      "Epoch 6/20\n",
      "32/32 [==============================] - 1s 32ms/step - loss: 1.1044 - categorical_accuracy: 0.4975 - val_loss: 1.2152 - val_categorical_accuracy: 0.4625\n",
      "Epoch 7/20\n",
      "32/32 [==============================] - 1s 33ms/step - loss: 1.1652 - categorical_accuracy: 0.4828 - val_loss: 1.1976 - val_categorical_accuracy: 0.4550\n",
      "Epoch 8/20\n",
      "32/32 [==============================] - 1s 41ms/step - loss: 1.1240 - categorical_accuracy: 0.4832 - val_loss: 1.1837 - val_categorical_accuracy: 0.4625\n",
      "Epoch 9/20\n",
      "32/32 [==============================] - 1s 40ms/step - loss: 1.1269 - categorical_accuracy: 0.4788 - val_loss: 1.1769 - val_categorical_accuracy: 0.4450\n",
      "Epoch 10/20\n",
      "32/32 [==============================] - 1s 37ms/step - loss: 1.1366 - categorical_accuracy: 0.4847 - val_loss: 1.1587 - val_categorical_accuracy: 0.4825\n",
      "Epoch 11/20\n",
      "32/32 [==============================] - 1s 37ms/step - loss: 1.1184 - categorical_accuracy: 0.4947 - val_loss: 1.1393 - val_categorical_accuracy: 0.4675\n",
      "Epoch 12/20\n",
      "32/32 [==============================] - 1s 34ms/step - loss: 1.0830 - categorical_accuracy: 0.5103 - val_loss: 1.1570 - val_categorical_accuracy: 0.4525\n",
      "Epoch 13/20\n",
      "32/32 [==============================] - 1s 33ms/step - loss: 1.1361 - categorical_accuracy: 0.4799 - val_loss: 1.1639 - val_categorical_accuracy: 0.4575\n",
      "Epoch 14/20\n",
      "32/32 [==============================] - 1s 31ms/step - loss: 1.1597 - categorical_accuracy: 0.4499 - val_loss: 1.1874 - val_categorical_accuracy: 0.4225\n",
      "Epoch 15/20\n",
      "32/32 [==============================] - 1s 29ms/step - loss: 1.1185 - categorical_accuracy: 0.4774 - val_loss: 1.1726 - val_categorical_accuracy: 0.4600\n",
      "Epoch 16/20\n",
      "32/32 [==============================] - 1s 38ms/step - loss: 1.1266 - categorical_accuracy: 0.4789 - val_loss: 1.1808 - val_categorical_accuracy: 0.4075\n",
      "Epoch 17/20\n",
      "32/32 [==============================] - 1s 38ms/step - loss: 1.1442 - categorical_accuracy: 0.4546 - val_loss: 1.1586 - val_categorical_accuracy: 0.4625\n",
      "Epoch 18/20\n",
      "32/32 [==============================] - 1s 37ms/step - loss: 1.1150 - categorical_accuracy: 0.4679 - val_loss: 1.1509 - val_categorical_accuracy: 0.4325\n",
      "Epoch 19/20\n",
      "32/32 [==============================] - 1s 35ms/step - loss: 1.1296 - categorical_accuracy: 0.4876 - val_loss: 1.1528 - val_categorical_accuracy: 0.4800\n",
      "Epoch 20/20\n",
      "32/32 [==============================] - 1s 35ms/step - loss: 1.1121 - categorical_accuracy: 0.4934 - val_loss: 1.1673 - val_categorical_accuracy: 0.4350\n"
     ]
    },
    {
     "data": {
      "text/plain": [
       "<tensorflow.python.keras.callbacks.History at 0x7f50af065eb0>"
      ]
     },
     "execution_count": 52,
     "metadata": {},
     "output_type": "execute_result"
    }
   ],
   "source": [
    "log_reg_model.fit(X_pca,y_ohe,validation_split=0.2,epochs=20,batch_size=50)"
   ]
  },
  {
   "cell_type": "code",
   "execution_count": null,
   "id": "6154545f-4ee4-497a-ae4d-14b96720fe26",
   "metadata": {},
   "outputs": [],
   "source": []
  }
 ],
 "metadata": {
  "kernelspec": {
   "display_name": "Python 3 (ipykernel)",
   "language": "python",
   "name": "python3"
  },
  "language_info": {
   "codemirror_mode": {
    "name": "ipython",
    "version": 3
   },
   "file_extension": ".py",
   "mimetype": "text/x-python",
   "name": "python",
   "nbconvert_exporter": "python",
   "pygments_lexer": "ipython3",
   "version": "3.8.8"
  }
 },
 "nbformat": 4,
 "nbformat_minor": 5
}
