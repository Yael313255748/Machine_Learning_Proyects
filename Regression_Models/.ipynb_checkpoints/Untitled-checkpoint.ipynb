{
 "cells": [
  {
   "cell_type": "code",
   "execution_count": 4,
   "id": "8e89c92b-6256-4c66-b136-7952722ce8fb",
   "metadata": {},
   "outputs": [],
   "source": [
    "from tensorflow.keras import (activations, layers,Sequential,\n",
    "                              Model,optimizers,losses,metrics,\n",
    "                              Input,regularizers,initializers)\n",
    "from tensorflow.keras.backend import clear_session\n",
    "from tensorflow.random import uniform,normal,set_seed\n",
    "from tensorflow.linalg import matmul\n",
    "from tensorflow import where\n",
    "from tensorflow.keras.wrappers.scikit_learn import KerasClassifier,KerasRegressor\n",
    "import matplotlib.pyplot as plt\n",
    "%matplotlib inline"
   ]
  },
  {
   "cell_type": "code",
   "execution_count": 8,
   "id": "d7e6f6cd-4a4f-42a1-9302-d5fd339365aa",
   "metadata": {},
   "outputs": [],
   "source": [
    "\n",
    "def single_layer_perceptron(input_shape,n_outputs,optimizer,loss,metrics=None,**kwargs):\n",
    "    \n",
    "    clear_session()\n",
    "    \n",
    "    inputs = Input(shape=input_shape)\n",
    "    outputs = layers.Dense(n_outputs,**kwargs)(inputs)\n",
    "    \n",
    "    model = Model(inputs=inputs,outputs=outputs)\n",
    "    \n",
    "    model.compile(optimizer,loss,metrics)\n",
    "    \n",
    "    return model\n",
    "\n",
    "def multi_layer_perceptron(input_shape,n_outputs,n_neurons,n_hidden_layers,act,out_act,\n",
    "                           optimizer,loss,metrics=None,dropout=False,batch_normalization=False,\n",
    "                           dropout_rate=None,momentum_bn=None,epsilon_bn=None,**kwargs):\n",
    "    \n",
    "    clear_session()\n",
    "    \n",
    "    inputs = Input(shape=input_shape)\n",
    "    \n",
    "    for i in range(n_hidden_layers):\n",
    "        \n",
    "        if i == 0:\n",
    "            \n",
    "            x = layers.Dense(n_neurons,activation=act,**kwargs)(inputs)\n",
    "            \n",
    "        else:\n",
    "            \n",
    "            x = layers.Dense(n_neurons,activation=act,**kwargs)(x)\n",
    "        \n",
    "        if dropout:\n",
    "            \n",
    "            x = layers.Dropout(dropout_rate)(x)\n",
    "            \n",
    "        if batch_normalization:\n",
    "            \n",
    "            x = layers.BatchNormalization(momentum=momentum_bn,epsilon=epsilon_bn)(x)\n",
    "            \n",
    "            \n",
    "        \n",
    "    outputs = layers.Dense(n_outputs,activation=out_act,**kwargs)(x)\n",
    "    \n",
    "    model = Model(inputs=inputs,outputs=outputs)\n",
    "    \n",
    "    model.compile(optimizer,loss,metrics)\n",
    "    \n",
    "    return model\n",
    "\n",
    "def convolutinal_neural_network(input_shape,n_outputs,n_conv_maxpol_layers,n_filters,kernel_size,strides,\n",
    "                                padding,pool_size,pool_strides,n_neurons,n_hidden_layers,act,out_act,optimizer,\n",
    "                                loss,metrics=None,dropout=False,batch_normalization=False,dropout_rate=None,\n",
    "                                momentum_bn=None,epsilon_bn=None,pool_kind='MAX',**kwargs):\n",
    "    \n",
    "    clear_session()\n",
    "    \n",
    "    inputs = Input(shape=input_shape)\n",
    "    \n",
    "    for i in range(n_hidden_layers):\n",
    "        \n",
    "        if i == 0:\n",
    "            \n",
    "            x = layers.Dense(n_neurons,activation=act,**kwargs)(inputs)\n",
    "            \n",
    "        else:\n",
    "            \n",
    "            x = layers.Dense(n_neurons,activation=act,**kwargs)(x)\n",
    "        \n",
    "        if dropout:\n",
    "            \n",
    "            x = layers.Dropout(dropout_rate)(x)\n",
    "            \n",
    "        if batch_normalization:\n",
    "            \n",
    "            x = layers.BatchNormalization(momentum=momentum_bn,epsilon=epsilon_bn)(x)\n",
    "            \n",
    "            \n",
    "        \n",
    "    outputs = layers.Dense(n_outputs,activation=out_act,**kwargs)(x)\n",
    "    \n",
    "    model = Model(inputs=inputs,outputs=outputs)\n",
    "    \n",
    "    model.compile(optimizer,loss,metrics)\n",
    "    \n",
    "    return model\n",
    "    \n"
   ]
  },
  {
   "cell_type": "code",
   "execution_count": 10,
   "id": "9d875d29-5fd9-421b-8b05-e406718147b1",
   "metadata": {},
   "outputs": [
    {
     "name": "stdout",
     "output_type": "stream",
     "text": [
      "Model: \"model\"\n",
      "_________________________________________________________________\n",
      "Layer (type)                 Output Shape              Param #   \n",
      "=================================================================\n",
      "input_1 (InputLayer)         [(None, 1)]               0         \n",
      "_________________________________________________________________\n",
      "dense (Dense)                (None, 100)               200       \n",
      "_________________________________________________________________\n",
      "dropout (Dropout)            (None, 100)               0         \n",
      "_________________________________________________________________\n",
      "batch_normalization (BatchNo (None, 100)               400       \n",
      "_________________________________________________________________\n",
      "dense_1 (Dense)              (None, 100)               10100     \n",
      "_________________________________________________________________\n",
      "dropout_1 (Dropout)          (None, 100)               0         \n",
      "_________________________________________________________________\n",
      "batch_normalization_1 (Batch (None, 100)               400       \n",
      "_________________________________________________________________\n",
      "dense_2 (Dense)              (None, 1)                 101       \n",
      "=================================================================\n",
      "Total params: 11,201\n",
      "Trainable params: 10,801\n",
      "Non-trainable params: 400\n",
      "_________________________________________________________________\n"
     ]
    }
   ],
   "source": [
    "input_shape=(1,)\n",
    "n_outputs=1\n",
    "lr=0.05\n",
    "optimizer = optimizers.SGD(lr)\n",
    "loss = losses.MeanSquaredError()\n",
    "activation='linear'\n",
    "\n",
    "MLP_model = multi_layer_perceptron(input_shape,n_outputs,100,2,'relu','linear',optimizer,loss,\n",
    "                                  batch_normalization=True,momentum_bn=0.99,epsilon_bn=0.001,\n",
    "                                  dropout_rate=0.3,dropout=True)\n",
    "\n",
    "MLP_model.summary()"
   ]
  },
  {
   "cell_type": "code",
   "execution_count": 4,
   "id": "f1ad4363-5b98-4394-9eb6-850a2d9ae7d0",
   "metadata": {},
   "outputs": [
    {
     "data": {
      "image/png": "[encoded data removed]",
      "text/plain": [
       "<Figure size 432x288 with 1 Axes>"
      ]
     },
     "metadata": {
      "needs_background": "light"
     },
     "output_type": "display_data"
    }
   ],
   "source": [
    "set_seed(1000)\n",
    "\n",
    "x = uniform([1000,1])\n",
    "w = uniform([1])\n",
    "b = uniform([1])\n",
    "\n",
    "e = normal([1000,1],stddev=0.1)\n",
    "\n",
    "y = w*x + b +e\n",
    "\n",
    "plt.scatter(x,y)\n",
    "plt.show()"
   ]
  },
  {
   "cell_type": "code",
   "execution_count": 15,
   "id": "6b10e94d-d05a-4b6f-b523-4989c05d3abd",
   "metadata": {},
   "outputs": [
    {
     "ename": "ValueError",
     "evalue": "activation is not a legal parameter",
     "output_type": "error",
     "traceback": [
      "\u001b[0;31m---------------------------------------------------------------------------\u001b[0m",
      "\u001b[0;31mValueError\u001b[0m                                Traceback (most recent call last)",
      "Input \u001b[0;32mIn [15]\u001b[0m, in \u001b[0;36m<cell line: 9>\u001b[0;34m()\u001b[0m\n\u001b[1;32m      6\u001b[0m activation\u001b[38;5;241m=\u001b[39m\u001b[38;5;124m'\u001b[39m\u001b[38;5;124mlinear\u001b[39m\u001b[38;5;124m'\u001b[39m\n\u001b[1;32m      8\u001b[0m model \u001b[38;5;241m=\u001b[39m single_layer_perceptron\n\u001b[0;32m----> 9\u001b[0m lr_model \u001b[38;5;241m=\u001b[39m \u001b[43mKerasRegressor\u001b[49m\u001b[43m(\u001b[49m\u001b[43mmodel\u001b[49m\u001b[43m,\u001b[49m\u001b[43mepochs\u001b[49m\u001b[38;5;241;43m=\u001b[39;49m\u001b[38;5;241;43m10\u001b[39;49m\u001b[43m,\u001b[49m\u001b[43mbatch_size\u001b[49m\u001b[38;5;241;43m=\u001b[39;49m\u001b[38;5;241;43m50\u001b[39;49m\u001b[43m,\u001b[49m\u001b[43minput_shape\u001b[49m\u001b[38;5;241;43m=\u001b[39;49m\u001b[43minput_shape\u001b[49m\u001b[43m,\u001b[49m\n\u001b[1;32m     10\u001b[0m \u001b[43m                          \u001b[49m\u001b[43mn_outputs\u001b[49m\u001b[38;5;241;43m=\u001b[39;49m\u001b[43mn_outputs\u001b[49m\u001b[43m,\u001b[49m\u001b[43moptimizer\u001b[49m\u001b[38;5;241;43m=\u001b[39;49m\u001b[43moptimizer\u001b[49m\u001b[43m,\u001b[49m\u001b[43mloss\u001b[49m\u001b[38;5;241;43m=\u001b[39;49m\u001b[43mloss\u001b[49m\u001b[43m,\u001b[49m\u001b[43mactivation\u001b[49m\u001b[38;5;241;43m=\u001b[39;49m\u001b[43mactivation\u001b[49m\u001b[43m)\u001b[49m\n",
      "File \u001b[0;32m~/anaconda3/lib/python3.8/site-packages/tensorflow/python/keras/wrappers/scikit_learn.py:77\u001b[0m, in \u001b[0;36mBaseWrapper.__init__\u001b[0;34m(self, build_fn, **sk_params)\u001b[0m\n\u001b[1;32m     75\u001b[0m \u001b[38;5;28mself\u001b[39m\u001b[38;5;241m.\u001b[39mbuild_fn \u001b[38;5;241m=\u001b[39m build_fn\n\u001b[1;32m     76\u001b[0m \u001b[38;5;28mself\u001b[39m\u001b[38;5;241m.\u001b[39msk_params \u001b[38;5;241m=\u001b[39m sk_params\n\u001b[0;32m---> 77\u001b[0m \u001b[38;5;28;43mself\u001b[39;49m\u001b[38;5;241;43m.\u001b[39;49m\u001b[43mcheck_params\u001b[49m\u001b[43m(\u001b[49m\u001b[43msk_params\u001b[49m\u001b[43m)\u001b[49m\n",
      "File \u001b[0;32m~/anaconda3/lib/python3.8/site-packages/tensorflow/python/keras/wrappers/scikit_learn.py:106\u001b[0m, in \u001b[0;36mBaseWrapper.check_params\u001b[0;34m(self, params)\u001b[0m\n\u001b[1;32m    104\u001b[0m \u001b[38;5;28;01melse\u001b[39;00m:\n\u001b[1;32m    105\u001b[0m   \u001b[38;5;28;01mif\u001b[39;00m params_name \u001b[38;5;241m!=\u001b[39m \u001b[38;5;124m'\u001b[39m\u001b[38;5;124mnb_epoch\u001b[39m\u001b[38;5;124m'\u001b[39m:\n\u001b[0;32m--> 106\u001b[0m     \u001b[38;5;28;01mraise\u001b[39;00m \u001b[38;5;167;01mValueError\u001b[39;00m(\u001b[38;5;124m'\u001b[39m\u001b[38;5;132;01m{}\u001b[39;00m\u001b[38;5;124m is not a legal parameter\u001b[39m\u001b[38;5;124m'\u001b[39m\u001b[38;5;241m.\u001b[39mformat(params_name))\n",
      "\u001b[0;31mValueError\u001b[0m: activation is not a legal parameter"
     ]
    }
   ],
   "source": [
    "input_shape=(1,)\n",
    "n_outputs=1\n",
    "lr=0.05\n",
    "optimizer = optimizers.SGD(lr)\n",
    "loss = losses.MeanSquaredError()\n",
    "activation='linear'\n",
    "\n",
    "model = single_layer_perceptron\n",
    "lr_model = KerasRegressor(model,epochs=10,batch_size=50,input_shape=input_shape,\n",
    "                          n_outputs=n_outputs,optimizer=optimizer,loss=loss,activation=activation)\n",
    "#lr_model.fit(x,y)"
   ]
  },
  {
   "cell_type": "code",
   "execution_count": 68,
   "id": "5cb89d24-5bb2-4219-a81c-44dcee515daf",
   "metadata": {},
   "outputs": [],
   "source": [
    "class SingleLayerPerceptron(Model):\n",
    "    \n",
    "    def __init__(self,n_outputs,**kwargs):\n",
    "        \n",
    "        clear_session()\n",
    "        \n",
    "        super().__init__()\n",
    "        \n",
    "        self.output_layer = layers.Dense(n_outputs,**kwargs)\n",
    "        \n",
    "    def call(self,inputs):\n",
    "        \n",
    "        return self.output_layer(inputs)\n",
    "\n",
    "class ConvolutionalNeuralNetwork(Model):\n",
    "    \n",
    "    def __init__(self,n_outputs,n_neurons,n_hidden_layers,act,out_act,n_conv_maxpol_layers,\n",
    "                 n_filters,kernel_size,strides,padding,pool_size,dropout=False,\n",
    "                 batch_normalization=False,dropout_rate=None,momentum=None,epsilon=None,*args,**kwargs):\n",
    "        \n",
    "        clear_session()\n",
    "        \n",
    "        super().__init__()\n",
    "        \n",
    "        self.conv_layers = []\n",
    "        self.maxpol_layers = []\n",
    "        self.hidden_layers = []\n",
    "        self.activation_layers = layers.Activation(act)\n",
    "        self.flatten_layer = layers.Flatten()\n",
    "        self.batch_normalization = batch_normalization\n",
    "        self.dropout = dropout\n",
    "        \n",
    "        if self.dropout:\n",
    "            \n",
    "            self.dropout_layer = layers.Dropout(rate=dropout_rate)\n",
    "        \n",
    "        if self.batch_normalization:\n",
    "            \n",
    "            self.batch_normalization_layer = layers.BatchNormalization(momentum=momentum,\n",
    "                                                                      epsilon=epsilon)\n",
    "        \n",
    "        for i in range(n_conv_maxpol_layers):\n",
    "            \n",
    "            self.conv_layers.append(layers.Conv2D(n_filters,kernel_size,strides,padding,**kwargs))\n",
    "            self.maxpol_layers.append(layers.MaxPool2D(pool_size=pool_size,padding=padding))\n",
    "        \n",
    "        for i in range(n_hidden_layers):\n",
    "            \n",
    "            self.hidden_layers.append(layers.Dense(n_neurons,activation=act,**kwargs))\n",
    "            \n",
    "        self.output_layer = layers.Dense(n_outputs,**kwargs)\n",
    "        \n",
    "    def call(self,inputs):\n",
    "        \n",
    "        for i in range(len(self.conv_layers)):\n",
    "            \n",
    "            inputs = self.conv_layers[i](inputs)\n",
    "            inputs = self.maxpol_layers[i](inputs)\n",
    "            inputs = self.activation_layer(inputs)\n",
    "            \n",
    "            if self.dropout:\n",
    "            \n",
    "                inputs = self.dropout_layer(inputs)\n",
    "                \n",
    "            if self.batch_normalization:\n",
    "            \n",
    "                inputs = self.batch_normalization_layer(inputs)\n",
    "            \n",
    "        inputs = self.flatten_layer(inputs)\n",
    "        \n",
    "        for hl in self.hidden_layers:\n",
    "            \n",
    "            inputs = hl(inputs)\n",
    "            \n",
    "            if self.dropout:\n",
    "            \n",
    "                inputs = self.dropout_layer(inputs)\n",
    "                \n",
    "            if self.batch_normalization:\n",
    "            \n",
    "                inputs = self.batch_normalization_layer(inputs) \n",
    "            \n",
    "        \n",
    "        return self.output_layer(inputs)\n",
    "    \n",
    "    \n",
    "\n",
    "class MultiLayerPerceptron(Model):\n",
    "    \n",
    "    def __init__(self,n_outputs,n_neurons,n_hidden_layers,act,out_act,dropout=False,\n",
    "                 batch_normalization=False,dropout_rate=None,momentum=None,epsilon=None,**kwargs):\n",
    "        \n",
    "        clear_session()\n",
    "        \n",
    "        super().__init__()\n",
    "        \n",
    "        self.batch_normalization = batch_normalization\n",
    "        self.dropout = dropout\n",
    "        self.hidden_layers = []\n",
    "        \n",
    "        if self.dropout:\n",
    "            \n",
    "            self.dropout_layer = layers.Dropout(rate=dropout_rate)\n",
    "        \n",
    "        if self.batch_normalization:\n",
    "            \n",
    "            self.batch_normalization_layer = layers.BatchNormalization(momentum=momentum,\n",
    "                                                                      epsilon=epsilon)\n",
    "            \n",
    "        \n",
    "        \n",
    "        for i in range(n_hidden_layers):\n",
    "            \n",
    "            self.hidden_layers.append(layers.Dense(n_neurons,activation=act,**kwargs))\n",
    "        \n",
    "        self.output_layer = layers.Dense(n_outputs,activation=out_act,**kwargs)\n",
    "        \n",
    "    def call(self,inputs):\n",
    "        \n",
    "        for hl in self.hidden_layers:\n",
    "            \n",
    "            inputs = hl(inputs)\n",
    "            \n",
    "            if self.dropout:\n",
    "            \n",
    "                inputs = self.dropout_layer(inputs)\n",
    "                \n",
    "            if self.batch_normalization:\n",
    "            \n",
    "                inputs = self.batch_normalization_layer(inputs) \n",
    "            \n",
    "        return self.output_layer(inputs)    \n",
    "        "
   ]
  },
  {
   "cell_type": "code",
   "execution_count": null,
   "id": "3d4da47e-ecca-43dd-a86b-86c65cdc2e15",
   "metadata": {},
   "outputs": [],
   "source": []
  },
  {
   "cell_type": "code",
   "execution_count": 26,
   "id": "3485508d-cb26-4183-bdda-cdc2a2b55224",
   "metadata": {},
   "outputs": [
    {
     "name": "stdout",
     "output_type": "stream",
     "text": [
      "Epoch 1/10\n",
      "32/32 [==============================] - 9s 31ms/step - loss: nan\n",
      "Epoch 2/10\n",
      "32/32 [==============================] - 1s 31ms/step - loss: nan\n",
      "Epoch 3/10\n",
      "32/32 [==============================] - 1s 36ms/step - loss: nan\n",
      "Epoch 4/10\n",
      "32/32 [==============================] - 1s 34ms/step - loss: nan\n",
      "Epoch 5/10\n",
      "32/32 [==============================] - 1s 38ms/step - loss: nan\n",
      "Epoch 6/10\n",
      "32/32 [==============================] - 1s 39ms/step - loss: nan\n",
      "Epoch 7/10\n",
      "32/32 [==============================] - 1s 33ms/step - loss: nan\n",
      "Epoch 8/10\n",
      "32/32 [==============================] - 1s 37ms/step - loss: nan\n",
      "Epoch 9/10\n",
      "32/32 [==============================] - 1s 34ms/step - loss: nan\n",
      "Epoch 10/10\n",
      "32/32 [==============================] - 1s 29ms/step - loss: nan\n"
     ]
    },
    {
     "data": {
      "text/plain": [
       "<tensorflow.python.keras.callbacks.History at 0x7f1a21ea3430>"
      ]
     },
     "execution_count": 26,
     "metadata": {},
     "output_type": "execute_result"
    }
   ],
   "source": [
    "MLP = MultiLayerPerceptron(1,100,2,'relu','linear',kernel_initializer=initializers.GlorotUniform(),\n",
    "                          batch_normalization=True,momentum=0.05,epsilon=1e-3)\n",
    "MLP.compile(loss=losses.MeanSquaredError(),optimizer=optimizers.SGD(0.1))\n",
    "MLP.fit(x,y,epochs=10)"
   ]
  },
  {
   "cell_type": "code",
   "execution_count": 39,
   "id": "198e2303-28c4-40f1-b48a-1edf3066012b",
   "metadata": {},
   "outputs": [],
   "source": [
    "from tensorflow.keras.datasets import mnist"
   ]
  },
  {
   "cell_type": "code",
   "execution_count": 87,
   "id": "1c2239a4-3e61-4e1c-84f9-66cfdbccfa28",
   "metadata": {},
   "outputs": [],
   "source": [
    "(x_train, y_train), (x_test, y_test) = mnist.load_data()"
   ]
  },
  {
   "cell_type": "code",
   "execution_count": 88,
   "id": "857ad88e-a251-4166-985b-a0e6527dd975",
   "metadata": {},
   "outputs": [
    {
     "data": {
      "text/plain": [
       "array([[0., 0., 0., ..., 0., 0., 0.],\n",
       "       [1., 0., 0., ..., 0., 0., 0.],\n",
       "       [0., 0., 0., ..., 0., 0., 0.],\n",
       "       ...,\n",
       "       [0., 0., 0., ..., 0., 0., 0.],\n",
       "       [0., 0., 0., ..., 0., 0., 0.],\n",
       "       [0., 0., 0., ..., 0., 1., 0.]])"
      ]
     },
     "execution_count": 88,
     "metadata": {},
     "output_type": "execute_result"
    }
   ],
   "source": [
    "from tensorflow.keras.utils import to_categorical\n",
    "\n",
    "y_train, y_test = to_categorical(y_train).astype(float), to_categorical(y_test).astype(float)\n",
    "\n",
    "y_train"
   ]
  },
  {
   "cell_type": "code",
   "execution_count": 89,
   "id": "2f8c3198-19e1-4a5b-9787-e456512dd1fa",
   "metadata": {},
   "outputs": [],
   "source": [
    "x_train, x_test = x_train.reshape(-1,28,28,1).astype(float), x_test.reshape(-1,28,28,1).astype(float)"
   ]
  },
  {
   "cell_type": "code",
   "execution_count": 90,
   "id": "70698c0f-fef4-4c76-9425-bf116e20678e",
   "metadata": {},
   "outputs": [],
   "source": [
    "# def __init__(self,n_outputs,n_neurons,n_hidden_layers,act,out_act,n_conv_maxpol_layers,\n",
    "#                  n_filters,kernel_size,strides,padding,pool_size,dropout=False,\n",
    "#                  batch_normalization=False,dropout_rate=None,momentum=None,epsilon=None,*args,**kwargs):\n",
    "\n",
    "CNN = ConvolutionalNeuralNetwork(10,100,2,'relu','softmax',2,100,(3,3),(2,2),'same',(2,2))"
   ]
  },
  {
   "cell_type": "code",
   "execution_count": 91,
   "id": "b602d06f-0012-4b81-bf56-057be2ccb1b9",
   "metadata": {},
   "outputs": [],
   "source": [
    "CNN.compile(loss=losses.CategoricalCrossentropy(),metrics=metrics.CategoricalAccuracy(),\n",
    "           optimizer=optimizers.SGD(0.1))"
   ]
  },
  {
   "cell_type": "code",
   "execution_count": 92,
   "id": "ea81d917-34fa-408d-a0fe-cf14dfe5fd60",
   "metadata": {},
   "outputs": [
    {
     "name": "stdout",
     "output_type": "stream",
     "text": [
      "1875/1875 [==============================] - 274s 142ms/step - loss: 9.4042 - categorical_accuracy: 0.0967\n"
     ]
    },
    {
     "data": {
      "text/plain": [
       "<tensorflow.python.keras.callbacks.History at 0x7f1a09e61e20>"
      ]
     },
     "execution_count": 92,
     "metadata": {},
     "output_type": "execute_result"
    }
   ],
   "source": [
    "CNN.fit(x_train,y_train,epochs=1,batch_size=32)"
   ]
  },
  {
   "cell_type": "code",
   "execution_count": 93,
   "id": "91afca1c-3397-493e-932b-057213bfbb54",
   "metadata": {},
   "outputs": [
    {
     "name": "stdout",
     "output_type": "stream",
     "text": [
      "Model: \"convolutional_neural_network\"\n",
      "_________________________________________________________________\n",
      "Layer (type)                 Output Shape              Param #   \n",
      "=================================================================\n",
      "conv2d (Conv2D)              multiple                  1000      \n",
      "_________________________________________________________________\n",
      "conv2d_1 (Conv2D)            multiple                  90100     \n",
      "_________________________________________________________________\n",
      "max_pooling2d (MaxPooling2D) multiple                  0         \n",
      "_________________________________________________________________\n",
      "max_pooling2d_1 (MaxPooling2 multiple                  0         \n",
      "_________________________________________________________________\n",
      "dense (Dense)                multiple                  40100     \n",
      "_________________________________________________________________\n",
      "dense_1 (Dense)              multiple                  10100     \n",
      "_________________________________________________________________\n",
      "activation (Activation)      multiple                  0         \n",
      "_________________________________________________________________\n",
      "flatten (Flatten)            multiple                  0         \n",
      "_________________________________________________________________\n",
      "dense_2 (Dense)              multiple                  1010      \n",
      "=================================================================\n",
      "Total params: 142,310\n",
      "Trainable params: 142,310\n",
      "Non-trainable params: 0\n",
      "_________________________________________________________________\n"
     ]
    }
   ],
   "source": [
    "CNN.summary()"
   ]
  },
  {
   "cell_type": "code",
   "execution_count": 4,
   "id": "9105862b-268e-44a4-878f-9709f19910ac",
   "metadata": {},
   "outputs": [
    {
     "name": "stderr",
     "output_type": "stream",
     "text": [
      "2022-08-26 15:01:14.915075: I tensorflow/compiler/jit/xla_cpu_device.cc:41] Not creating XLA devices, tf_xla_enable_xla_devices not set\n",
      "2022-08-26 15:01:14.942887: I tensorflow/core/platform/cpu_feature_guard.cc:142] This TensorFlow binary is optimized with oneAPI Deep Neural Network Library (oneDNN) to use the following CPU instructions in performance-critical operations:  SSE4.1 SSE4.2 AVX\n",
      "To enable them in other operations, rebuild TensorFlow with the appropriate compiler flags.\n",
      "2022-08-26 15:01:14.978478: I tensorflow/core/common_runtime/process_util.cc:146] Creating new thread pool with default inter op setting: 2. Tune using inter_op_parallelism_threads for best performance.\n"
     ]
    },
    {
     "data": {
      "image/png": "[encoded data removed]",
      "text/plain": [
       "<Figure size 432x288 with 1 Axes>"
      ]
     },
     "metadata": {
      "needs_background": "light"
     },
     "output_type": "display_data"
    }
   ],
   "source": []
  },
  {
   "cell_type": "code",
   "execution_count": 183,
   "id": "acfb3285-fb22-4fa4-84d0-e8c19ef7c017",
   "metadata": {},
   "outputs": [
    {
     "name": "stdout",
     "output_type": "stream",
     "text": [
      "Epoch 1/5\n",
      "32/32 [==============================] - 3s 23ms/step - loss: 0.3444\n",
      "Epoch 2/5\n",
      "32/32 [==============================] - 1s 21ms/step - loss: 0.0099\n",
      "Epoch 3/5\n",
      "32/32 [==============================] - 1s 30ms/step - loss: 0.0098\n",
      "Epoch 4/5\n",
      "32/32 [==============================] - 1s 30ms/step - loss: 0.0101\n",
      "Epoch 5/5\n",
      "32/32 [==============================] - 1s 28ms/step - loss: 0.0101: 0s \n"
     ]
    },
    {
     "data": {
      "text/plain": [
       "<tensorflow.python.keras.callbacks.History at 0x7f773f6f7280>"
      ]
     },
     "execution_count": 183,
     "metadata": {},
     "output_type": "execute_result"
    }
   ],
   "source": [
    "lr = SingleLayerPerceptron(1,activation='linear',kernel_initializer=initializers.GlorotUniform())\n",
    "lr.compile(loss=losses.MeanSquaredError(),optimizer=optimizers.SGD(0.05))\n",
    "lr.fit(x,y,epochs=5)"
   ]
  },
  {
   "cell_type": "code",
   "execution_count": 184,
   "id": "b006c364-180a-4caf-8cda-d5f0ea7c6693",
   "metadata": {},
   "outputs": [
    {
     "name": "stdout",
     "output_type": "stream",
     "text": [
      "Model: \"single_layer_perceptron\"\n",
      "_________________________________________________________________\n",
      "Layer (type)                 Output Shape              Param #   \n",
      "=================================================================\n",
      "dense (Dense)                multiple                  2         \n",
      "=================================================================\n",
      "Total params: 2\n",
      "Trainable params: 2\n",
      "Non-trainable params: 0\n",
      "_________________________________________________________________\n"
     ]
    }
   ],
   "source": [
    "lr.summary()"
   ]
  },
  {
   "cell_type": "code",
   "execution_count": 128,
   "id": "470cab76-b39c-41ed-b7e0-f73de6ba0426",
   "metadata": {},
   "outputs": [
    {
     "data": {
      "text/plain": [
       "[array([[0.6257111]], dtype=float32), array([0.84604484], dtype=float32)]"
      ]
     },
     "execution_count": 128,
     "metadata": {},
     "output_type": "execute_result"
    }
   ],
   "source": [
    "lr.get_weights()"
   ]
  },
  {
   "cell_type": "code",
   "execution_count": 129,
   "id": "746f90fb-15ca-4800-8aa4-455811598b1c",
   "metadata": {},
   "outputs": [
    {
     "data": {
      "text/plain": [
       "<tf.Tensor: shape=(1,), dtype=float32, numpy=array([0.6543844], dtype=float32)>"
      ]
     },
     "execution_count": 129,
     "metadata": {},
     "output_type": "execute_result"
    }
   ],
   "source": [
    "w"
   ]
  },
  {
   "cell_type": "code",
   "execution_count": 130,
   "id": "fa4f7d95-4842-4b97-bd05-d3f587aa8700",
   "metadata": {},
   "outputs": [
    {
     "data": {
      "text/plain": [
       "<tf.Tensor: shape=(1,), dtype=float32, numpy=array([0.830091], dtype=float32)>"
      ]
     },
     "execution_count": 130,
     "metadata": {},
     "output_type": "execute_result"
    }
   ],
   "source": [
    "b"
   ]
  },
  {
   "cell_type": "code",
   "execution_count": null,
   "id": "9e7eefcd-df87-4d55-93bc-d51db28d5cdf",
   "metadata": {},
   "outputs": [],
   "source": []
  }
 ],
 "metadata": {
  "kernelspec": {
   "display_name": "Python 3 (ipykernel)",
   "language": "python",
   "name": "python3"
  },
  "language_info": {
   "codemirror_mode": {
    "name": "ipython",
    "version": 3
   },
   "file_extension": ".py",
   "mimetype": "text/x-python",
   "name": "python",
   "nbconvert_exporter": "python",
   "pygments_lexer": "ipython3",
   "version": "3.8.8"
  }
 },
 "nbformat": 4,
 "nbformat_minor": 5
}
