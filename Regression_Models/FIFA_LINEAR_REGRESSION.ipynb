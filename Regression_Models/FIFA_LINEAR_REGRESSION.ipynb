{
 "cells": [
  {
   "cell_type": "code",
   "execution_count": 2,
   "metadata": {
    "id": "8QCy3wKsAdwU"
   },
   "outputs": [],
   "source": [
    "import numpy as np\n",
    "import pandas as pd\n",
    "from tensorflow.keras import optimizers,constraints,losses\n",
    "from sklearn.model_selection import train_test_split\n",
    "from sklearn.preprocessing import MinMaxScaler\n",
    "from sklearn.decomposition import PCA\n",
    "from sklearn.cluster import KMeans\n",
    "import matplotlib.pyplot as plt\n",
    "import seaborn as sns\n",
    "import warnings\n",
    "import tensorflow as tf\n",
    "from Machine_Learning_Tools.Neural_Networks_Models import single_layer_perceptron ,cross_val_metrics\n",
    "warnings.filterwarnings(\"ignore\")\n",
    "%matplotlib inline"
   ]
  },
  {
   "cell_type": "markdown",
   "metadata": {
    "id": "YmPGErcm8PSh"
   },
   "source": [
    "**Preprocesamiento de los datos y elección de variables**"
   ]
  },
  {
   "cell_type": "code",
   "execution_count": 16,
   "metadata": {
    "id": "gSuU1a8vK-vT"
   },
   "outputs": [],
   "source": [
    "fifa_21 = pd.read_csv('datasets/players_21.csv')\n",
    "fifa_20 = pd.read_csv('datasets/players_20.csv')"
   ]
  },
  {
   "cell_type": "code",
   "execution_count": 29,
   "metadata": {
    "id": "yz3J2JtyLTbl"
   },
   "outputs": [
    {
     "name": "stdout",
     "output_type": "stream",
     "text": [
      "<class 'pandas.core.frame.DataFrame'>\n",
      "RangeIndex: 18278 entries, 0 to 18277\n",
      "Data columns (total 34 columns):\n",
      " #   Column                      Non-Null Count  Dtype\n",
      "---  ------                      --------------  -----\n",
      " 0   attacking_crossing          18278 non-null  int64\n",
      " 1   attacking_finishing         18278 non-null  int64\n",
      " 2   attacking_heading_accuracy  18278 non-null  int64\n",
      " 3   attacking_short_passing     18278 non-null  int64\n",
      " 4   attacking_volleys           18278 non-null  int64\n",
      " 5   skill_dribbling             18278 non-null  int64\n",
      " 6   skill_curve                 18278 non-null  int64\n",
      " 7   skill_fk_accuracy           18278 non-null  int64\n",
      " 8   skill_long_passing          18278 non-null  int64\n",
      " 9   skill_ball_control          18278 non-null  int64\n",
      " 10  movement_acceleration       18278 non-null  int64\n",
      " 11  movement_sprint_speed       18278 non-null  int64\n",
      " 12  movement_agility            18278 non-null  int64\n",
      " 13  movement_reactions          18278 non-null  int64\n",
      " 14  movement_balance            18278 non-null  int64\n",
      " 15  power_shot_power            18278 non-null  int64\n",
      " 16  power_jumping               18278 non-null  int64\n",
      " 17  power_stamina               18278 non-null  int64\n",
      " 18  power_strength              18278 non-null  int64\n",
      " 19  power_long_shots            18278 non-null  int64\n",
      " 20  mentality_aggression        18278 non-null  int64\n",
      " 21  mentality_interceptions     18278 non-null  int64\n",
      " 22  mentality_positioning       18278 non-null  int64\n",
      " 23  mentality_vision            18278 non-null  int64\n",
      " 24  mentality_penalties         18278 non-null  int64\n",
      " 25  mentality_composure         18278 non-null  int64\n",
      " 26  defending_marking           18278 non-null  int64\n",
      " 27  defending_standing_tackle   18278 non-null  int64\n",
      " 28  defending_sliding_tackle    18278 non-null  int64\n",
      " 29  goalkeeping_diving          18278 non-null  int64\n",
      " 30  goalkeeping_handling        18278 non-null  int64\n",
      " 31  goalkeeping_kicking         18278 non-null  int64\n",
      " 32  goalkeeping_positioning     18278 non-null  int64\n",
      " 33  goalkeeping_reflexes        18278 non-null  int64\n",
      "dtypes: int64(34)\n",
      "memory usage: 4.7 MB\n"
     ]
    }
   ],
   "source": [
    "features = list(fifa_20.columns[fifa_20.dtypes=='int64'])[11:]\n",
    "target = ['overall']\n",
    "fifa_20[features].info()"
   ]
  },
  {
   "cell_type": "code",
   "execution_count": 30,
   "metadata": {
    "id": "cGzDveeLLXhd"
   },
   "outputs": [
    {
     "data": {
      "text/plain": [
       "['attacking_crossing',\n",
       " 'attacking_finishing',\n",
       " 'attacking_heading_accuracy',\n",
       " 'attacking_short_passing',\n",
       " 'attacking_volleys',\n",
       " 'skill_dribbling',\n",
       " 'skill_curve',\n",
       " 'skill_fk_accuracy',\n",
       " 'skill_long_passing',\n",
       " 'skill_ball_control',\n",
       " 'movement_acceleration',\n",
       " 'movement_sprint_speed',\n",
       " 'movement_agility',\n",
       " 'movement_reactions',\n",
       " 'movement_balance',\n",
       " 'power_shot_power',\n",
       " 'power_jumping',\n",
       " 'power_stamina',\n",
       " 'power_strength',\n",
       " 'power_long_shots',\n",
       " 'mentality_aggression',\n",
       " 'mentality_interceptions',\n",
       " 'mentality_positioning',\n",
       " 'mentality_vision',\n",
       " 'mentality_penalties',\n",
       " 'mentality_composure',\n",
       " 'defending_marking',\n",
       " 'defending_standing_tackle',\n",
       " 'defending_sliding_tackle',\n",
       " 'goalkeeping_diving',\n",
       " 'goalkeeping_handling',\n",
       " 'goalkeeping_kicking',\n",
       " 'goalkeeping_positioning',\n",
       " 'goalkeeping_reflexes']"
      ]
     },
     "execution_count": 30,
     "metadata": {},
     "output_type": "execute_result"
    }
   ],
   "source": [
    "scaler_X = MinMaxScaler()\n",
    "scaler_y = MinMaxScaler()\n",
    "scaler_X.fit(fifa_20[features])\n",
    "scaler_y.fit(fifa_20[target])\n",
    "features\n"
   ]
  },
  {
   "cell_type": "code",
   "execution_count": 31,
   "metadata": {},
   "outputs": [
    {
     "data": {
      "text/plain": [
       "(18278, 1)"
      ]
     },
     "execution_count": 31,
     "metadata": {},
     "output_type": "execute_result"
    }
   ],
   "source": [
    "fifa_20[target].values.shape"
   ]
  },
  {
   "cell_type": "code",
   "execution_count": 32,
   "metadata": {},
   "outputs": [],
   "source": [
    "def pre_data(df):\n",
    "    \n",
    "    X = df[features]\n",
    "    y = df[target]\n",
    "    \n",
    "    X = scaler_X.transform(X)\n",
    "    y = scaler_y.transform(y)\n",
    "    \n",
    "    return X,y"
   ]
  },
  {
   "cell_type": "code",
   "execution_count": 33,
   "metadata": {
    "id": "FmIppA_pML6l"
   },
   "outputs": [],
   "source": [
    "X , y = pre_data(fifa_20)\n",
    "X_val , y_val = pre_data(fifa_21)"
   ]
  },
  {
   "cell_type": "markdown",
   "metadata": {
    "id": "MpGDJtII9i3j"
   },
   "source": [
    "**Ajuste de un modelo de regresión lineal con pesos no negativos**"
   ]
  },
  {
   "cell_type": "code",
   "execution_count": 34,
   "metadata": {
    "id": "g0JR2Id3Mm-M"
   },
   "outputs": [],
   "source": [
    "loss = losses.MeanSquaredError()\n",
    "lr = 0.05\n",
    "optimizer = optimizers.SGD(learning_rate=lr)\n",
    "epochs = 50\n",
    "batch_size = round(X.shape[0]/50)\n",
    "input_shape = X.shape[1]\n",
    "n_outputs = 1\n",
    "\n",
    "constraint = constraints.NonNeg()\n",
    "\n",
    "linear_regression = single_layer_perceptron(input_shape,n_outputs,optimizer,loss,kernel_constraint=constraint,\n",
    "                                           activation='linear')"
   ]
  },
  {
   "cell_type": "code",
   "execution_count": 37,
   "metadata": {
    "id": "j4YxK0LMMxCs"
   },
   "outputs": [
    {
     "name": "stdout",
     "output_type": "stream",
     "text": [
      "Epoch 1/50\n",
      "40/40 [==============================] - 0s 2ms/step - loss: 0.0030 - val_loss: 0.0080\n",
      "Epoch 2/50\n",
      "40/40 [==============================] - 0s 1ms/step - loss: 0.0030 - val_loss: 0.0081\n",
      "Epoch 3/50\n",
      "40/40 [==============================] - 0s 1ms/step - loss: 0.0030 - val_loss: 0.0083\n",
      "Epoch 4/50\n",
      "40/40 [==============================] - 0s 1ms/step - loss: 0.0030 - val_loss: 0.0082\n",
      "Epoch 5/50\n",
      "40/40 [==============================] - 0s 1ms/step - loss: 0.0030 - val_loss: 0.0077\n",
      "Epoch 6/50\n",
      "40/40 [==============================] - 0s 1ms/step - loss: 0.0030 - val_loss: 0.0080\n",
      "Epoch 7/50\n",
      "40/40 [==============================] - 0s 1ms/step - loss: 0.0029 - val_loss: 0.0083\n",
      "Epoch 8/50\n",
      "40/40 [==============================] - 0s 1ms/step - loss: 0.0029 - val_loss: 0.0078\n",
      "Epoch 9/50\n",
      "40/40 [==============================] - 0s 997us/step - loss: 0.0029 - val_loss: 0.0072\n",
      "Epoch 10/50\n",
      "40/40 [==============================] - 0s 1ms/step - loss: 0.0029 - val_loss: 0.0072\n",
      "Epoch 11/50\n",
      "40/40 [==============================] - 0s 983us/step - loss: 0.0029 - val_loss: 0.0084\n",
      "Epoch 12/50\n",
      "40/40 [==============================] - 0s 997us/step - loss: 0.0029 - val_loss: 0.0072\n",
      "Epoch 13/50\n",
      "40/40 [==============================] - 0s 1ms/step - loss: 0.0029 - val_loss: 0.0076\n",
      "Epoch 14/50\n",
      "40/40 [==============================] - 0s 975us/step - loss: 0.0029 - val_loss: 0.0073\n",
      "Epoch 15/50\n",
      "40/40 [==============================] - 0s 1ms/step - loss: 0.0029 - val_loss: 0.0076\n",
      "Epoch 16/50\n",
      "40/40 [==============================] - 0s 972us/step - loss: 0.0029 - val_loss: 0.0074\n",
      "Epoch 17/50\n",
      "40/40 [==============================] - 0s 1ms/step - loss: 0.0029 - val_loss: 0.0071\n",
      "Epoch 18/50\n",
      "40/40 [==============================] - 0s 1ms/step - loss: 0.0029 - val_loss: 0.0069\n",
      "Epoch 19/50\n",
      "40/40 [==============================] - 0s 1ms/step - loss: 0.0029 - val_loss: 0.0072\n",
      "Epoch 20/50\n",
      "40/40 [==============================] - 0s 1ms/step - loss: 0.0028 - val_loss: 0.0071\n",
      "Epoch 21/50\n",
      "40/40 [==============================] - 0s 997us/step - loss: 0.0028 - val_loss: 0.0072\n",
      "Epoch 22/50\n",
      "40/40 [==============================] - 0s 997us/step - loss: 0.0028 - val_loss: 0.0072\n",
      "Epoch 23/50\n",
      "40/40 [==============================] - 0s 1ms/step - loss: 0.0028 - val_loss: 0.0069\n",
      "Epoch 24/50\n",
      "40/40 [==============================] - 0s 979us/step - loss: 0.0028 - val_loss: 0.0075\n",
      "Epoch 25/50\n",
      "40/40 [==============================] - 0s 1ms/step - loss: 0.0028 - val_loss: 0.0075\n",
      "Epoch 26/50\n",
      "40/40 [==============================] - 0s 986us/step - loss: 0.0028 - val_loss: 0.0069\n",
      "Epoch 27/50\n",
      "40/40 [==============================] - 0s 1ms/step - loss: 0.0028 - val_loss: 0.0066\n",
      "Epoch 28/50\n",
      "40/40 [==============================] - 0s 1ms/step - loss: 0.0028 - val_loss: 0.0070\n",
      "Epoch 29/50\n",
      "40/40 [==============================] - 0s 1ms/step - loss: 0.0028 - val_loss: 0.0070\n",
      "Epoch 30/50\n",
      "40/40 [==============================] - 0s 975us/step - loss: 0.0028 - val_loss: 0.0067\n",
      "Epoch 31/50\n",
      "40/40 [==============================] - 0s 972us/step - loss: 0.0028 - val_loss: 0.0067\n",
      "Epoch 32/50\n",
      "40/40 [==============================] - 0s 1ms/step - loss: 0.0028 - val_loss: 0.0068\n",
      "Epoch 33/50\n",
      "40/40 [==============================] - 0s 979us/step - loss: 0.0028 - val_loss: 0.0065\n",
      "Epoch 34/50\n",
      "40/40 [==============================] - 0s 997us/step - loss: 0.0028 - val_loss: 0.0068\n",
      "Epoch 35/50\n",
      "40/40 [==============================] - 0s 1ms/step - loss: 0.0028 - val_loss: 0.0070\n",
      "Epoch 36/50\n",
      "40/40 [==============================] - 0s 1ms/step - loss: 0.0028 - val_loss: 0.0066\n",
      "Epoch 37/50\n",
      "40/40 [==============================] - 0s 983us/step - loss: 0.0028 - val_loss: 0.0065\n",
      "Epoch 38/50\n",
      "40/40 [==============================] - 0s 997us/step - loss: 0.0028 - val_loss: 0.0072\n",
      "Epoch 39/50\n",
      "40/40 [==============================] - 0s 997us/step - loss: 0.0028 - val_loss: 0.0064\n",
      "Epoch 40/50\n",
      "40/40 [==============================] - 0s 1000us/step - loss: 0.0028 - val_loss: 0.0065\n",
      "Epoch 41/50\n",
      "40/40 [==============================] - 0s 1ms/step - loss: 0.0028 - val_loss: 0.0063\n",
      "Epoch 42/50\n",
      "40/40 [==============================] - 0s 974us/step - loss: 0.0028 - val_loss: 0.0067\n",
      "Epoch 43/50\n",
      "40/40 [==============================] - 0s 1ms/step - loss: 0.0028 - val_loss: 0.0066\n",
      "Epoch 44/50\n",
      "40/40 [==============================] - 0s 1ms/step - loss: 0.0028 - val_loss: 0.0069\n",
      "Epoch 45/50\n",
      "40/40 [==============================] - 0s 1ms/step - loss: 0.0028 - val_loss: 0.0065\n",
      "Epoch 46/50\n",
      "40/40 [==============================] - 0s 972us/step - loss: 0.0028 - val_loss: 0.0064\n",
      "Epoch 47/50\n",
      "40/40 [==============================] - 0s 1ms/step - loss: 0.0028 - val_loss: 0.0065\n",
      "Epoch 48/50\n",
      "40/40 [==============================] - 0s 1ms/step - loss: 0.0028 - val_loss: 0.0068\n",
      "Epoch 49/50\n",
      "40/40 [==============================] - 0s 1ms/step - loss: 0.0028 - val_loss: 0.0065\n",
      "Epoch 50/50\n",
      "40/40 [==============================] - 0s 1ms/step - loss: 0.0028 - val_loss: 0.0066\n"
     ]
    },
    {
     "data": {
      "text/plain": [
       "<keras.callbacks.History at 0x251bb0e07f0>"
      ]
     },
     "execution_count": 37,
     "metadata": {},
     "output_type": "execute_result"
    }
   ],
   "source": [
    "linear_regression.fit(X,y,validation_split=0.2,epochs=epochs,batch_size=batch_size)"
   ]
  },
  {
   "cell_type": "code",
   "execution_count": 36,
   "metadata": {},
   "outputs": [
    {
     "name": "stdout",
     "output_type": "stream",
     "text": [
      "[name: \"/device:CPU:0\"\n",
      "device_type: \"CPU\"\n",
      "memory_limit: 268435456\n",
      "locality {\n",
      "}\n",
      "incarnation: 3847795102423239683\n",
      "xla_global_id: -1\n",
      "]\n"
     ]
    }
   ],
   "source": [
    "from tensorflow.python.client import device_lib\n",
    "print(device_lib.list_local_devices())"
   ]
  },
  {
   "cell_type": "markdown",
   "metadata": {
    "id": "EMmCe0ot-Kgv"
   },
   "source": [
    "**Visualizando los datos en dos dimenciones utilizando PCA y agrupandolos mediante el algoritmo de K-Means**"
   ]
  },
  {
   "cell_type": "code",
   "execution_count": 85,
   "metadata": {
    "id": "UUzkXNH_QRCb"
   },
   "outputs": [],
   "source": [
    "pca = PCA()\n",
    "pca.fit(X)\n",
    "CPX = pca.transform(X)"
   ]
  },
  {
   "cell_type": "code",
   "execution_count": 86,
   "metadata": {
    "id": "eWBB8B1gQyAb"
   },
   "outputs": [
    {
     "data": {
      "image/png": "[encoded data removed]",
      "text/plain": [
       "<Figure size 720x576 with 1 Axes>"
      ]
     },
     "metadata": {
      "needs_background": "light"
     },
     "output_type": "display_data"
    }
   ],
   "source": [
    "plt.figure(figsize=(10,8))\n",
    "plt.scatter(CPX[:,0],CPX[:,1])\n",
    "plt.xlabel('Principal Component 1')\n",
    "plt.ylabel('Principal Component 2')\n",
    "plt.plot();"
   ]
  },
  {
   "cell_type": "code",
   "execution_count": 87,
   "metadata": {
    "id": "vw6RRf2iQ0yq"
   },
   "outputs": [],
   "source": [
    "kmean=KMeans(n_clusters=4,random_state=1)\n",
    "kmean.fit(X)\n",
    "clusters=kmean.predict(X)"
   ]
  },
  {
   "cell_type": "code",
   "execution_count": 88,
   "metadata": {
    "id": "rSMhuFH3RpbS"
   },
   "outputs": [
    {
     "data": {
      "image/png": "[encoded data removed]",
      "text/plain": [
       "<Figure size 720x576 with 1 Axes>"
      ]
     },
     "metadata": {
      "needs_background": "light"
     },
     "output_type": "display_data"
    }
   ],
   "source": [
    "colors=['red','blue','green','indigo']\n",
    "\n",
    "plt.figure(figsize=(10,8))\n",
    "\n",
    "for c,col in zip(np.unique(clusters),colors):\n",
    "    \n",
    "    plt.scatter(CPX[clusters==c,0],CPX[clusters==c,1],c=col,label='cluster {}'.format(c))\n",
    "\n",
    "plt.xlabel('Principal Component 1')\n",
    "plt.ylabel('Principal Component 2')\n",
    "plt.legend()\n",
    "plt.plot();\n"
   ]
  },
  {
   "cell_type": "code",
   "execution_count": 89,
   "metadata": {
    "id": "k68dTmz2RwK4"
   },
   "outputs": [],
   "source": [
    "clusters = clusters.reshape(-1,1)\n",
    "fifa_20['clusters'] = clusters"
   ]
  },
  {
   "cell_type": "markdown",
   "metadata": {
    "id": "jd7kKXL8-rn7"
   },
   "source": [
    "**Generando un modelo por cada grupo obtenido con el algoritmo de k-means**\n",
    "\n",
    "\n"
   ]
  },
  {
   "cell_type": "code",
   "execution_count": null,
   "metadata": {
    "id": "iNvVzAwcSo5i"
   },
   "outputs": [],
   "source": [
    "Clust=np.unique(clusters)\n",
    "def fit_models(C):\n",
    "    \n",
    "    models=[]\n",
    "    met=[]\n",
    "    coefs=[]\n",
    "    df_=[]\n",
    "    for i in C:\n",
    "        data=df2[df['clusters']==i]\n",
    "\n",
    "        X=np.array(data.drop('overall',axis=1),dtype=float)\n",
    "\n",
    "        y=np.array(data[['overall']],dtype=float)\n",
    "\n",
    "        X=scaler.fit_transform(X)\n",
    "\n",
    "        model , metric, coef, prediction=compute_coefs_metrics_pred(X,y,var_names)\n",
    "        print('---------------------------------------------------------------')\n",
    "        models.append(model)\n",
    "        met.append(metric)\n",
    "        coefs.append(coef)\n",
    "    data=df[df['clusters']==i][['short_name','nationality','overall']]\n",
    "\n",
    "    data['overall_predict']=np.round(prediction)\n",
    "    df_.append(data)\n",
    "    return models,met,df_,coefs"
   ]
  },
  {
   "cell_type": "code",
   "execution_count": null,
   "metadata": {
    "id": "cs8OOIrkW9Iq"
   },
   "outputs": [],
   "source": [
    "models,met,data_frames,coefs=fit_models(Clust)"
   ]
  },
  {
   "cell_type": "code",
   "execution_count": null,
   "metadata": {
    "id": "egDkUF1gaGF4"
   },
   "outputs": [],
   "source": [
    "j=0\n",
    "for i in met:\n",
    "  print('Cluster {}'.format(j))\n",
    "  print(i['STR'],'\\n-------------------------------------------')\n",
    "  j+=1"
   ]
  },
  {
   "cell_type": "code",
   "execution_count": null,
   "metadata": {
    "id": "66X4oDNYaNvJ"
   },
   "outputs": [],
   "source": [
    "data_frames[0].head(10)"
   ]
  },
  {
   "cell_type": "code",
   "execution_count": null,
   "metadata": {
    "id": "aROtgo3mbNLR"
   },
   "outputs": [],
   "source": [
    "data_frames[1].head(10)"
   ]
  },
  {
   "cell_type": "code",
   "execution_count": null,
   "metadata": {
    "id": "HwIPu9Tpbr64"
   },
   "outputs": [],
   "source": [
    "data_frames[2].head(10)"
   ]
  },
  {
   "cell_type": "code",
   "execution_count": null,
   "metadata": {
    "id": "B-3qDrZmbxeo"
   },
   "outputs": [],
   "source": [
    "data_frames[3].head(10)"
   ]
  },
  {
   "cell_type": "code",
   "execution_count": null,
   "metadata": {
    "id": "X-1-ijACb21Q"
   },
   "outputs": [],
   "source": [
    "coefs[0]"
   ]
  },
  {
   "cell_type": "code",
   "execution_count": null,
   "metadata": {
    "id": "6pcjvO_TcE-x"
   },
   "outputs": [],
   "source": [
    "data_frames[3][data_frames[3]['nationality']=='Mexico'].head(10)"
   ]
  },
  {
   "cell_type": "code",
   "execution_count": null,
   "metadata": {
    "id": "KuHsqawzddap"
   },
   "outputs": [],
   "source": [
    "data_frames[0][data_frames[0]['nationality']=='Mexico'].head(10)"
   ]
  },
  {
   "cell_type": "code",
   "execution_count": null,
   "metadata": {
    "id": "WZ4PWo-HdnJF"
   },
   "outputs": [],
   "source": [
    "data_frames[2][data_frames[2]['nationality']=='Mexico'].head(10)"
   ]
  },
  {
   "cell_type": "code",
   "execution_count": null,
   "metadata": {
    "id": "XfpxC5crd8JI"
   },
   "outputs": [],
   "source": [
    "data_frames[1][data_frames[1]['nationality']=='Mexico'].head(10)"
   ]
  }
 ],
 "metadata": {
  "colab": {
   "collapsed_sections": [],
   "provenance": []
  },
  "kernelspec": {
   "display_name": "Python 3 (ipykernel)",
   "language": "python",
   "name": "python3"
  },
  "language_info": {
   "codemirror_mode": {
    "name": "ipython",
    "version": 3
   },
   "file_extension": ".py",
   "mimetype": "text/x-python",
   "name": "python",
   "nbconvert_exporter": "python",
   "pygments_lexer": "ipython3",
   "version": "3.9.12"
  }
 },
 "nbformat": 4,
 "nbformat_minor": 4
}
